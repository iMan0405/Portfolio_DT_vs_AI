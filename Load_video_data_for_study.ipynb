{
  "nbformat": 4,
  "nbformat_minor": 0,
  "metadata": {
    "colab": {
      "provenance": [],
      "gpuType": "T4",
      "authorship_tag": "ABX9TyOzjMhx6JyEMD1tFBE/7Kyg",
      "include_colab_link": true
    },
    "kernelspec": {
      "name": "python3",
      "display_name": "Python 3"
    },
    "language_info": {
      "name": "python"
    },
    "accelerator": "GPU"
  },
  "cells": [
    {
      "cell_type": "markdown",
      "metadata": {
        "id": "view-in-github",
        "colab_type": "text"
      },
      "source": [
        "<a href=\"https://colab.research.google.com/github/iMan0405/Portfolio_DT_vs_AI/blob/main/Load_video_data_for_study.ipynb\" target=\"_parent\"><img src=\"https://colab.research.google.com/assets/colab-badge.svg\" alt=\"Open In Colab\"/></a>"
      ]
    },
    {
      "cell_type": "markdown",
      "source": [
        "# Kutubxonlarni yuklab olish va o'rnatish"
      ],
      "metadata": {
        "id": "1FyPnC6gMnTe"
      }
    },
    {
      "cell_type": "code",
      "execution_count": 1,
      "metadata": {
        "colab": {
          "base_uri": "https://localhost:8080/"
        },
        "id": "xHBMvARcL8bx",
        "outputId": "50fb0068-8f51-478c-b6d0-ae6bf6c63430"
      },
      "outputs": [
        {
          "output_type": "stream",
          "name": "stdout",
          "text": [
            "Requirement already satisfied: tensorflow>=2.10.0 in /usr/local/lib/python3.10/dist-packages (2.15.0)\n",
            "Collecting tensorflow>=2.10.0\n",
            "  Downloading tensorflow-2.15.0.post1-cp310-cp310-manylinux_2_17_x86_64.manylinux2014_x86_64.whl (475.2 MB)\n",
            "\u001b[2K     \u001b[90m━━━━━━━━━━━━━━━━━━━━━━━━━━━━━━━━━━━━━━━━\u001b[0m \u001b[32m475.2/475.2 MB\u001b[0m \u001b[31m3.0 MB/s\u001b[0m eta \u001b[36m0:00:00\u001b[0m\n",
            "\u001b[?25hRequirement already satisfied: absl-py>=1.0.0 in /usr/local/lib/python3.10/dist-packages (from tensorflow>=2.10.0) (1.4.0)\n",
            "Requirement already satisfied: astunparse>=1.6.0 in /usr/local/lib/python3.10/dist-packages (from tensorflow>=2.10.0) (1.6.3)\n",
            "Requirement already satisfied: flatbuffers>=23.5.26 in /usr/local/lib/python3.10/dist-packages (from tensorflow>=2.10.0) (23.5.26)\n",
            "Requirement already satisfied: gast!=0.5.0,!=0.5.1,!=0.5.2,>=0.2.1 in /usr/local/lib/python3.10/dist-packages (from tensorflow>=2.10.0) (0.5.4)\n",
            "Requirement already satisfied: google-pasta>=0.1.1 in /usr/local/lib/python3.10/dist-packages (from tensorflow>=2.10.0) (0.2.0)\n",
            "Requirement already satisfied: h5py>=2.9.0 in /usr/local/lib/python3.10/dist-packages (from tensorflow>=2.10.0) (3.9.0)\n",
            "Requirement already satisfied: libclang>=13.0.0 in /usr/local/lib/python3.10/dist-packages (from tensorflow>=2.10.0) (16.0.6)\n",
            "Requirement already satisfied: ml-dtypes~=0.2.0 in /usr/local/lib/python3.10/dist-packages (from tensorflow>=2.10.0) (0.2.0)\n",
            "Requirement already satisfied: numpy<2.0.0,>=1.23.5 in /usr/local/lib/python3.10/dist-packages (from tensorflow>=2.10.0) (1.23.5)\n",
            "Requirement already satisfied: opt-einsum>=2.3.2 in /usr/local/lib/python3.10/dist-packages (from tensorflow>=2.10.0) (3.3.0)\n",
            "Requirement already satisfied: packaging in /usr/local/lib/python3.10/dist-packages (from tensorflow>=2.10.0) (23.2)\n",
            "Requirement already satisfied: protobuf!=4.21.0,!=4.21.1,!=4.21.2,!=4.21.3,!=4.21.4,!=4.21.5,<5.0.0dev,>=3.20.3 in /usr/local/lib/python3.10/dist-packages (from tensorflow>=2.10.0) (3.20.3)\n",
            "Requirement already satisfied: setuptools in /usr/local/lib/python3.10/dist-packages (from tensorflow>=2.10.0) (67.7.2)\n",
            "Requirement already satisfied: six>=1.12.0 in /usr/local/lib/python3.10/dist-packages (from tensorflow>=2.10.0) (1.16.0)\n",
            "Requirement already satisfied: termcolor>=1.1.0 in /usr/local/lib/python3.10/dist-packages (from tensorflow>=2.10.0) (2.4.0)\n",
            "Requirement already satisfied: typing-extensions>=3.6.6 in /usr/local/lib/python3.10/dist-packages (from tensorflow>=2.10.0) (4.5.0)\n",
            "Requirement already satisfied: wrapt<1.15,>=1.11.0 in /usr/local/lib/python3.10/dist-packages (from tensorflow>=2.10.0) (1.14.1)\n",
            "Requirement already satisfied: tensorflow-io-gcs-filesystem>=0.23.1 in /usr/local/lib/python3.10/dist-packages (from tensorflow>=2.10.0) (0.34.0)\n",
            "Requirement already satisfied: grpcio<2.0,>=1.24.3 in /usr/local/lib/python3.10/dist-packages (from tensorflow>=2.10.0) (1.60.0)\n",
            "Requirement already satisfied: tensorboard<2.16,>=2.15 in /usr/local/lib/python3.10/dist-packages (from tensorflow>=2.10.0) (2.15.1)\n",
            "Requirement already satisfied: tensorflow-estimator<2.16,>=2.15.0 in /usr/local/lib/python3.10/dist-packages (from tensorflow>=2.10.0) (2.15.0)\n",
            "Requirement already satisfied: keras<2.16,>=2.15.0 in /usr/local/lib/python3.10/dist-packages (from tensorflow>=2.10.0) (2.15.0)\n",
            "Requirement already satisfied: wheel<1.0,>=0.23.0 in /usr/local/lib/python3.10/dist-packages (from astunparse>=1.6.0->tensorflow>=2.10.0) (0.42.0)\n",
            "Requirement already satisfied: google-auth<3,>=1.6.3 in /usr/local/lib/python3.10/dist-packages (from tensorboard<2.16,>=2.15->tensorflow>=2.10.0) (2.17.3)\n",
            "Requirement already satisfied: google-auth-oauthlib<2,>=0.5 in /usr/local/lib/python3.10/dist-packages (from tensorboard<2.16,>=2.15->tensorflow>=2.10.0) (1.2.0)\n",
            "Requirement already satisfied: markdown>=2.6.8 in /usr/local/lib/python3.10/dist-packages (from tensorboard<2.16,>=2.15->tensorflow>=2.10.0) (3.5.1)\n",
            "Requirement already satisfied: requests<3,>=2.21.0 in /usr/local/lib/python3.10/dist-packages (from tensorboard<2.16,>=2.15->tensorflow>=2.10.0) (2.31.0)\n",
            "Requirement already satisfied: tensorboard-data-server<0.8.0,>=0.7.0 in /usr/local/lib/python3.10/dist-packages (from tensorboard<2.16,>=2.15->tensorflow>=2.10.0) (0.7.2)\n",
            "Requirement already satisfied: werkzeug>=1.0.1 in /usr/local/lib/python3.10/dist-packages (from tensorboard<2.16,>=2.15->tensorflow>=2.10.0) (3.0.1)\n",
            "Requirement already satisfied: cachetools<6.0,>=2.0.0 in /usr/local/lib/python3.10/dist-packages (from google-auth<3,>=1.6.3->tensorboard<2.16,>=2.15->tensorflow>=2.10.0) (5.3.2)\n",
            "Requirement already satisfied: pyasn1-modules>=0.2.1 in /usr/local/lib/python3.10/dist-packages (from google-auth<3,>=1.6.3->tensorboard<2.16,>=2.15->tensorflow>=2.10.0) (0.3.0)\n",
            "Requirement already satisfied: rsa<5,>=3.1.4 in /usr/local/lib/python3.10/dist-packages (from google-auth<3,>=1.6.3->tensorboard<2.16,>=2.15->tensorflow>=2.10.0) (4.9)\n",
            "Requirement already satisfied: requests-oauthlib>=0.7.0 in /usr/local/lib/python3.10/dist-packages (from google-auth-oauthlib<2,>=0.5->tensorboard<2.16,>=2.15->tensorflow>=2.10.0) (1.3.1)\n",
            "Requirement already satisfied: charset-normalizer<4,>=2 in /usr/local/lib/python3.10/dist-packages (from requests<3,>=2.21.0->tensorboard<2.16,>=2.15->tensorflow>=2.10.0) (3.3.2)\n",
            "Requirement already satisfied: idna<4,>=2.5 in /usr/local/lib/python3.10/dist-packages (from requests<3,>=2.21.0->tensorboard<2.16,>=2.15->tensorflow>=2.10.0) (3.6)\n",
            "Requirement already satisfied: urllib3<3,>=1.21.1 in /usr/local/lib/python3.10/dist-packages (from requests<3,>=2.21.0->tensorboard<2.16,>=2.15->tensorflow>=2.10.0) (2.0.7)\n",
            "Requirement already satisfied: certifi>=2017.4.17 in /usr/local/lib/python3.10/dist-packages (from requests<3,>=2.21.0->tensorboard<2.16,>=2.15->tensorflow>=2.10.0) (2023.11.17)\n",
            "Requirement already satisfied: MarkupSafe>=2.1.1 in /usr/local/lib/python3.10/dist-packages (from werkzeug>=1.0.1->tensorboard<2.16,>=2.15->tensorflow>=2.10.0) (2.1.3)\n",
            "Requirement already satisfied: pyasn1<0.6.0,>=0.4.6 in /usr/local/lib/python3.10/dist-packages (from pyasn1-modules>=0.2.1->google-auth<3,>=1.6.3->tensorboard<2.16,>=2.15->tensorflow>=2.10.0) (0.5.1)\n",
            "Requirement already satisfied: oauthlib>=3.0.0 in /usr/local/lib/python3.10/dist-packages (from requests-oauthlib>=0.7.0->google-auth-oauthlib<2,>=0.5->tensorboard<2.16,>=2.15->tensorflow>=2.10.0) (3.2.2)\n",
            "Installing collected packages: tensorflow\n",
            "  Attempting uninstall: tensorflow\n",
            "    Found existing installation: tensorflow 2.15.0\n",
            "    Uninstalling tensorflow-2.15.0:\n",
            "      Successfully uninstalled tensorflow-2.15.0\n",
            "Successfully installed tensorflow-2.15.0.post1\n"
          ]
        }
      ],
      "source": [
        "!pip install -U \"tensorflow>=2.10.0\""
      ]
    },
    {
      "cell_type": "code",
      "source": [
        "!pip install remotezip tqdm opencv-python\n",
        "!pip install -q git+https://github.com/tensorflow/docs"
      ],
      "metadata": {
        "id": "oLQNEh15MxWD",
        "colab": {
          "base_uri": "https://localhost:8080/"
        },
        "outputId": "bbf50c8b-4c38-4b8e-f4ed-a3c5da8de93a"
      },
      "execution_count": 2,
      "outputs": [
        {
          "output_type": "stream",
          "name": "stdout",
          "text": [
            "Collecting remotezip\n",
            "  Downloading remotezip-0.12.2.tar.gz (7.6 kB)\n",
            "  Preparing metadata (setup.py) ... \u001b[?25l\u001b[?25hdone\n",
            "Requirement already satisfied: tqdm in /usr/local/lib/python3.10/dist-packages (4.66.1)\n",
            "Requirement already satisfied: opencv-python in /usr/local/lib/python3.10/dist-packages (4.8.0.76)\n",
            "Requirement already satisfied: requests in /usr/local/lib/python3.10/dist-packages (from remotezip) (2.31.0)\n",
            "Requirement already satisfied: tabulate in /usr/local/lib/python3.10/dist-packages (from remotezip) (0.9.0)\n",
            "Requirement already satisfied: numpy>=1.21.2 in /usr/local/lib/python3.10/dist-packages (from opencv-python) (1.23.5)\n",
            "Requirement already satisfied: charset-normalizer<4,>=2 in /usr/local/lib/python3.10/dist-packages (from requests->remotezip) (3.3.2)\n",
            "Requirement already satisfied: idna<4,>=2.5 in /usr/local/lib/python3.10/dist-packages (from requests->remotezip) (3.6)\n",
            "Requirement already satisfied: urllib3<3,>=1.21.1 in /usr/local/lib/python3.10/dist-packages (from requests->remotezip) (2.0.7)\n",
            "Requirement already satisfied: certifi>=2017.4.17 in /usr/local/lib/python3.10/dist-packages (from requests->remotezip) (2023.11.17)\n",
            "Building wheels for collected packages: remotezip\n",
            "  Building wheel for remotezip (setup.py) ... \u001b[?25l\u001b[?25hdone\n",
            "  Created wheel for remotezip: filename=remotezip-0.12.2-py3-none-any.whl size=7890 sha256=bcdff0d070a79ed9d275711275e5b0bd0a12bf2a452fcbda009284eab32e0da7\n",
            "  Stored in directory: /root/.cache/pip/wheels/f2/71/f9/c650cc34039d772da8b040ed447b6b5f5de9abc38d88073fa1\n",
            "Successfully built remotezip\n",
            "Installing collected packages: remotezip\n",
            "Successfully installed remotezip-0.12.2\n",
            "  Preparing metadata (setup.py) ... \u001b[?25l\u001b[?25hdone\n",
            "  Building wheel for tensorflow-docs (setup.py) ... \u001b[?25l\u001b[?25hdone\n"
          ]
        }
      ]
    },
    {
      "cell_type": "code",
      "source": [
        "import tqdm\n",
        "import random\n",
        "import pathlib\n",
        "import itertools\n",
        "import collections\n",
        "\n",
        "import os\n",
        "import cv2\n",
        "import numpy as np\n",
        "import remotezip as rz\n",
        "\n",
        "import tensorflow as tf\n",
        "\n",
        "import imageio\n",
        "from IPython import display\n",
        "from urllib import request\n",
        "from tensorflow_docs.vis import embed"
      ],
      "metadata": {
        "id": "PqiBHix3NOwK"
      },
      "execution_count": 3,
      "outputs": []
    },
    {
      "cell_type": "code",
      "source": [
        "URL = \"https://storage.googleapis.com/thumos14_files/UCF101_videos.zip\""
      ],
      "metadata": {
        "id": "KAhrjfyKS-Ig"
      },
      "execution_count": 4,
      "outputs": []
    },
    {
      "cell_type": "code",
      "source": [
        "def list_files_from_zip_url(zip_url):\n",
        "    files = []\n",
        "    with rz.RemoteZip(zip_url) as zip:\n",
        "        for zip_info in zip.infolist():\n",
        "            files.append(zip_info.filename)\n",
        "    return files"
      ],
      "metadata": {
        "id": "GtDGOTyrorln"
      },
      "execution_count": 5,
      "outputs": []
    },
    {
      "cell_type": "code",
      "source": [
        "files = list_files_from_zip_url(URL)\n",
        "files = [f for f in files if f.endswith('.avi')]\n",
        "files[:10]"
      ],
      "metadata": {
        "colab": {
          "base_uri": "https://localhost:8080/"
        },
        "id": "ePI3bYP2pOEh",
        "outputId": "a0d4e241-d12b-442f-f104-3474a43e216d"
      },
      "execution_count": 6,
      "outputs": [
        {
          "output_type": "execute_result",
          "data": {
            "text/plain": [
              "['UCF101/v_ApplyEyeMakeup_g01_c01.avi',\n",
              " 'UCF101/v_ApplyEyeMakeup_g01_c02.avi',\n",
              " 'UCF101/v_ApplyEyeMakeup_g01_c03.avi',\n",
              " 'UCF101/v_ApplyEyeMakeup_g01_c04.avi',\n",
              " 'UCF101/v_ApplyEyeMakeup_g01_c05.avi',\n",
              " 'UCF101/v_ApplyEyeMakeup_g01_c06.avi',\n",
              " 'UCF101/v_ApplyEyeMakeup_g02_c01.avi',\n",
              " 'UCF101/v_ApplyEyeMakeup_g02_c02.avi',\n",
              " 'UCF101/v_ApplyEyeMakeup_g02_c03.avi',\n",
              " 'UCF101/v_ApplyEyeMakeup_g02_c04.avi']"
            ]
          },
          "metadata": {},
          "execution_count": 6
        }
      ]
    },
    {
      "cell_type": "code",
      "source": [
        "def get_class(fname):\n",
        "    return fname.split('_')[-3]"
      ],
      "metadata": {
        "id": "oCwLDaUVs5sH"
      },
      "execution_count": 7,
      "outputs": []
    },
    {
      "cell_type": "code",
      "source": [
        "def get_files_per_class(files):\n",
        "    files_for_class = collections.defaultdict(list)\n",
        "    for fname in files:\n",
        "        class_name = get_class(fname)\n",
        "        files_for_class[class_name].append(fname)\n",
        "    return files_for_class"
      ],
      "metadata": {
        "id": "FwSVRG9KtDzU"
      },
      "execution_count": 8,
      "outputs": []
    },
    {
      "cell_type": "code",
      "source": [
        "NUM_CLASSES = 10\n",
        "FILES_PER_CLASS = 50"
      ],
      "metadata": {
        "id": "3ELbjOhaubrI"
      },
      "execution_count": 9,
      "outputs": []
    },
    {
      "cell_type": "code",
      "source": [
        "files_for_class = get_files_per_class(files)\n",
        "classes = list(files_for_class.keys())"
      ],
      "metadata": {
        "id": "ZT5kp7tWulW_"
      },
      "execution_count": 10,
      "outputs": []
    },
    {
      "cell_type": "code",
      "source": [
        "print('Num classes:', len(classes))\n",
        "print('Num videos for class[0]:', len(files_for_class[classes[0]]))"
      ],
      "metadata": {
        "colab": {
          "base_uri": "https://localhost:8080/"
        },
        "id": "8fqWtBuju2Jv",
        "outputId": "1ba40a27-86ef-4ea3-8c12-a3d8a751c4c6"
      },
      "execution_count": 11,
      "outputs": [
        {
          "output_type": "stream",
          "name": "stdout",
          "text": [
            "Num classes: 101\n",
            "Num videos for class[0]: 145\n"
          ]
        }
      ]
    },
    {
      "cell_type": "code",
      "source": [
        "def select_subset_of_classes(files_for_class, classes, files_per_class):\n",
        "    files_subset = dict()\n",
        "    for class_name in classes:\n",
        "        class_files = files_for_class[class_name]\n",
        "        files_subset[class_name] = class_files[:files_per_class]\n",
        "    return files_subset"
      ],
      "metadata": {
        "id": "7YT0s-CYvJh8"
      },
      "execution_count": 12,
      "outputs": []
    },
    {
      "cell_type": "code",
      "source": [
        "files_subset = select_subset_of_classes(files_for_class, classes[:NUM_CLASSES], FILES_PER_CLASS)\n",
        "list(files_subset.keys())"
      ],
      "metadata": {
        "colab": {
          "base_uri": "https://localhost:8080/"
        },
        "id": "eGcSOXg1wbp6",
        "outputId": "a8822323-a3e2-45ef-e09b-f9ffb1dcb7ee"
      },
      "execution_count": 13,
      "outputs": [
        {
          "output_type": "execute_result",
          "data": {
            "text/plain": [
              "['ApplyEyeMakeup',\n",
              " 'ApplyLipstick',\n",
              " 'Archery',\n",
              " 'BabyCrawling',\n",
              " 'BalanceBeam',\n",
              " 'BandMarching',\n",
              " 'BaseballPitch',\n",
              " 'BasketballDunk',\n",
              " 'Basketball',\n",
              " 'BenchPress']"
            ]
          },
          "metadata": {},
          "execution_count": 13
        }
      ]
    },
    {
      "cell_type": "code",
      "source": [
        "def download_from_zip(zip_url, to_dir, file_names):\n",
        "    with rz.RemoteZip(zip_url) as zip:\n",
        "        for fn in tqdm.tqdm(file_names):\n",
        "            class_name = get_class(fn)\n",
        "            zip.extract(fn, str(to_dir / class_name))\n",
        "            unzipped_file = to_dir / class_name / fn\n",
        "\n",
        "            fn = pathlib.Path(fn).parts[-1]\n",
        "            output_file = to_dir / class_name / fn\n",
        "            unzipped_file.rename(output_file)"
      ],
      "metadata": {
        "id": "PXkX7J8Bw_3D"
      },
      "execution_count": 14,
      "outputs": []
    },
    {
      "cell_type": "code",
      "source": [
        "def split_class_lists(files_for_class, count):\n",
        "    split_files = []\n",
        "    remainder = {}\n",
        "    for cls in files_for_class:\n",
        "        split_files.extend(files_for_class[cls][:count])\n",
        "        remainder[cls] = files_for_class[cls][count:]\n",
        "    return split_files, remainder"
      ],
      "metadata": {
        "id": "TzXMlQNALrVs"
      },
      "execution_count": 15,
      "outputs": []
    },
    {
      "cell_type": "code",
      "source": [
        "def download_ucf_101_subset(zip_url, num_classes, splits, download_dir):\n",
        "    files = list_files_from_zip_url(zip_url)\n",
        "    for f in files:\n",
        "        path = os.path.normpath(f)\n",
        "        tokens = path.split(os.sep)\n",
        "        if len(tokens) <= 2:\n",
        "            files.remove(f)\n",
        "    files_for_class = get_files_per_class(files)\n",
        "    classes = list(files_for_class.keys())[:num_classes]\n",
        "\n",
        "    for cls in classes:\n",
        "        random.shuffle(files_for_class[cls])\n",
        "    files_for_class = {x: files_for_class[x] for x in classes}\n",
        "\n",
        "    dirs = {}\n",
        "    for split_name, split_count in splits.items():\n",
        "        print(split_name, \":\")\n",
        "        split_dir = download_dir / split_name\n",
        "        split_files, files_for_class = split_class_lists(files_for_class, split_count)\n",
        "        download_from_zip(zip_url, split_dir, split_files)\n",
        "        dirs[split_name] = split_dir\n",
        "    return dirs"
      ],
      "metadata": {
        "id": "NRv6M6OPOU0b"
      },
      "execution_count": 16,
      "outputs": []
    },
    {
      "cell_type": "code",
      "source": [
        "download_dir = pathlib.Path('./UCF101_subset/')\n",
        "subset_paths = download_ucf_101_subset(URL,\n",
        "                                       num_classes = NUM_CLASSES,\n",
        "                                       splits = {\"train\":30, \"val\":10, \"test\":10},\n",
        "                                       download_dir = download_dir)"
      ],
      "metadata": {
        "colab": {
          "base_uri": "https://localhost:8080/"
        },
        "id": "1xEtwItrT7_b",
        "outputId": "cf119ada-095e-40b4-f471-fa1d74a64bfe"
      },
      "execution_count": 17,
      "outputs": [
        {
          "output_type": "stream",
          "name": "stdout",
          "text": [
            "train :\n"
          ]
        },
        {
          "output_type": "stream",
          "name": "stderr",
          "text": [
            "100%|██████████| 300/300 [00:56<00:00,  5.32it/s]\n"
          ]
        },
        {
          "output_type": "stream",
          "name": "stdout",
          "text": [
            "val :\n"
          ]
        },
        {
          "output_type": "stream",
          "name": "stderr",
          "text": [
            "100%|██████████| 100/100 [00:19<00:00,  5.08it/s]\n"
          ]
        },
        {
          "output_type": "stream",
          "name": "stdout",
          "text": [
            "test :\n"
          ]
        },
        {
          "output_type": "stream",
          "name": "stderr",
          "text": [
            "100%|██████████| 100/100 [00:18<00:00,  5.35it/s]\n"
          ]
        }
      ]
    },
    {
      "cell_type": "code",
      "source": [
        "video_count_train = len(list(download_dir.glob('train/*/*.avi')))\n",
        "video_count_val = len(list(download_dir.glob('val/*/*.avi')))\n",
        "video_count_test = len(list(download_dir.glob('test/*/*.avi')))\n",
        "video_total = video_count_train + video_count_val + video_count_test\n",
        "print(f\"Total videos: {video_total}\")"
      ],
      "metadata": {
        "colab": {
          "base_uri": "https://localhost:8080/"
        },
        "id": "EPgCmz3aQ-gy",
        "outputId": "f4b77305-3157-44ab-f09f-193e7f512b5d"
      },
      "execution_count": 18,
      "outputs": [
        {
          "output_type": "stream",
          "name": "stdout",
          "text": [
            "Total videos: 500\n"
          ]
        }
      ]
    },
    {
      "cell_type": "code",
      "source": [
        "!find ./UCF101_subset"
      ],
      "metadata": {
        "colab": {
          "base_uri": "https://localhost:8080/"
        },
        "id": "_izUgHGWTSkj",
        "outputId": "9c5feebe-4f52-4038-e87e-1652cf27052d"
      },
      "execution_count": 19,
      "outputs": [
        {
          "output_type": "stream",
          "name": "stdout",
          "text": [
            "./UCF101_subset\n",
            "./UCF101_subset/train\n",
            "./UCF101_subset/train/ApplyEyeMakeup\n",
            "./UCF101_subset/train/ApplyEyeMakeup/UCF101\n",
            "./UCF101_subset/train/ApplyEyeMakeup/v_ApplyEyeMakeup_g18_c03.avi\n",
            "./UCF101_subset/train/ApplyEyeMakeup/v_ApplyEyeMakeup_g18_c01.avi\n",
            "./UCF101_subset/train/ApplyEyeMakeup/v_ApplyEyeMakeup_g19_c04.avi\n",
            "./UCF101_subset/train/ApplyEyeMakeup/v_ApplyEyeMakeup_g13_c05.avi\n",
            "./UCF101_subset/train/ApplyEyeMakeup/v_ApplyEyeMakeup_g13_c01.avi\n",
            "./UCF101_subset/train/ApplyEyeMakeup/v_ApplyEyeMakeup_g02_c01.avi\n",
            "./UCF101_subset/train/ApplyEyeMakeup/v_ApplyEyeMakeup_g14_c03.avi\n",
            "./UCF101_subset/train/ApplyEyeMakeup/v_ApplyEyeMakeup_g06_c01.avi\n",
            "./UCF101_subset/train/ApplyEyeMakeup/v_ApplyEyeMakeup_g14_c01.avi\n",
            "./UCF101_subset/train/ApplyEyeMakeup/v_ApplyEyeMakeup_g04_c01.avi\n",
            "./UCF101_subset/train/ApplyEyeMakeup/v_ApplyEyeMakeup_g01_c05.avi\n",
            "./UCF101_subset/train/ApplyEyeMakeup/v_ApplyEyeMakeup_g24_c02.avi\n",
            "./UCF101_subset/train/ApplyEyeMakeup/v_ApplyEyeMakeup_g23_c04.avi\n",
            "./UCF101_subset/train/ApplyEyeMakeup/v_ApplyEyeMakeup_g11_c04.avi\n",
            "./UCF101_subset/train/ApplyEyeMakeup/v_ApplyEyeMakeup_g16_c01.avi\n",
            "./UCF101_subset/train/ApplyEyeMakeup/v_ApplyEyeMakeup_g22_c05.avi\n",
            "./UCF101_subset/train/ApplyEyeMakeup/v_ApplyEyeMakeup_g22_c01.avi\n",
            "./UCF101_subset/train/ApplyEyeMakeup/v_ApplyEyeMakeup_g04_c03.avi\n",
            "./UCF101_subset/train/ApplyEyeMakeup/v_ApplyEyeMakeup_g12_c03.avi\n",
            "./UCF101_subset/train/ApplyEyeMakeup/v_ApplyEyeMakeup_g03_c05.avi\n",
            "./UCF101_subset/train/ApplyEyeMakeup/v_ApplyEyeMakeup_g01_c03.avi\n",
            "./UCF101_subset/train/ApplyEyeMakeup/v_ApplyEyeMakeup_g09_c06.avi\n",
            "./UCF101_subset/train/ApplyEyeMakeup/v_ApplyEyeMakeup_g16_c03.avi\n",
            "./UCF101_subset/train/ApplyEyeMakeup/v_ApplyEyeMakeup_g17_c04.avi\n",
            "./UCF101_subset/train/ApplyEyeMakeup/v_ApplyEyeMakeup_g10_c03.avi\n",
            "./UCF101_subset/train/ApplyEyeMakeup/v_ApplyEyeMakeup_g25_c03.avi\n",
            "./UCF101_subset/train/ApplyEyeMakeup/v_ApplyEyeMakeup_g05_c04.avi\n",
            "./UCF101_subset/train/ApplyEyeMakeup/v_ApplyEyeMakeup_g23_c02.avi\n",
            "./UCF101_subset/train/ApplyEyeMakeup/v_ApplyEyeMakeup_g22_c03.avi\n",
            "./UCF101_subset/train/ApplyEyeMakeup/v_ApplyEyeMakeup_g23_c06.avi\n",
            "./UCF101_subset/train/ApplyLipstick\n",
            "./UCF101_subset/train/ApplyLipstick/UCF101\n",
            "./UCF101_subset/train/ApplyLipstick/v_ApplyLipstick_g23_c03.avi\n",
            "./UCF101_subset/train/ApplyLipstick/v_ApplyLipstick_g02_c01.avi\n",
            "./UCF101_subset/train/ApplyLipstick/v_ApplyLipstick_g09_c04.avi\n",
            "./UCF101_subset/train/ApplyLipstick/v_ApplyLipstick_g06_c03.avi\n",
            "./UCF101_subset/train/ApplyLipstick/v_ApplyLipstick_g06_c01.avi\n",
            "./UCF101_subset/train/ApplyLipstick/v_ApplyLipstick_g18_c02.avi\n",
            "./UCF101_subset/train/ApplyLipstick/v_ApplyLipstick_g06_c05.avi\n",
            "./UCF101_subset/train/ApplyLipstick/v_ApplyLipstick_g25_c04.avi\n",
            "./UCF101_subset/train/ApplyLipstick/v_ApplyLipstick_g02_c03.avi\n",
            "./UCF101_subset/train/ApplyLipstick/v_ApplyLipstick_g23_c01.avi\n",
            "./UCF101_subset/train/ApplyLipstick/v_ApplyLipstick_g01_c02.avi\n",
            "./UCF101_subset/train/ApplyLipstick/v_ApplyLipstick_g20_c02.avi\n",
            "./UCF101_subset/train/ApplyLipstick/v_ApplyLipstick_g04_c05.avi\n",
            "./UCF101_subset/train/ApplyLipstick/v_ApplyLipstick_g04_c03.avi\n",
            "./UCF101_subset/train/ApplyLipstick/v_ApplyLipstick_g13_c03.avi\n",
            "./UCF101_subset/train/ApplyLipstick/v_ApplyLipstick_g14_c03.avi\n",
            "./UCF101_subset/train/ApplyLipstick/v_ApplyLipstick_g25_c02.avi\n",
            "./UCF101_subset/train/ApplyLipstick/v_ApplyLipstick_g10_c04.avi\n",
            "./UCF101_subset/train/ApplyLipstick/v_ApplyLipstick_g10_c02.avi\n",
            "./UCF101_subset/train/ApplyLipstick/v_ApplyLipstick_g15_c03.avi\n",
            "./UCF101_subset/train/ApplyLipstick/v_ApplyLipstick_g15_c01.avi\n",
            "./UCF101_subset/train/ApplyLipstick/v_ApplyLipstick_g05_c02.avi\n",
            "./UCF101_subset/train/ApplyLipstick/v_ApplyLipstick_g09_c02.avi\n",
            "./UCF101_subset/train/ApplyLipstick/v_ApplyLipstick_g24_c03.avi\n",
            "./UCF101_subset/train/ApplyLipstick/v_ApplyLipstick_g21_c03.avi\n",
            "./UCF101_subset/train/ApplyLipstick/v_ApplyLipstick_g19_c04.avi\n",
            "./UCF101_subset/train/ApplyLipstick/v_ApplyLipstick_g07_c04.avi\n",
            "./UCF101_subset/train/ApplyLipstick/v_ApplyLipstick_g03_c01.avi\n",
            "./UCF101_subset/train/ApplyLipstick/v_ApplyLipstick_g18_c04.avi\n",
            "./UCF101_subset/train/ApplyLipstick/v_ApplyLipstick_g07_c02.avi\n",
            "./UCF101_subset/train/Archery\n",
            "./UCF101_subset/train/Archery/v_Archery_g15_c04.avi\n",
            "./UCF101_subset/train/Archery/UCF101\n",
            "./UCF101_subset/train/Archery/v_Archery_g11_c06.avi\n",
            "./UCF101_subset/train/Archery/v_Archery_g09_c06.avi\n",
            "./UCF101_subset/train/Archery/v_Archery_g18_c06.avi\n",
            "./UCF101_subset/train/Archery/v_Archery_g12_c01.avi\n",
            "./UCF101_subset/train/Archery/v_Archery_g24_c04.avi\n",
            "./UCF101_subset/train/Archery/v_Archery_g15_c02.avi\n",
            "./UCF101_subset/train/Archery/v_Archery_g21_c02.avi\n",
            "./UCF101_subset/train/Archery/v_Archery_g24_c02.avi\n",
            "./UCF101_subset/train/Archery/v_Archery_g13_c03.avi\n",
            "./UCF101_subset/train/Archery/v_Archery_g02_c05.avi\n",
            "./UCF101_subset/train/Archery/v_Archery_g11_c04.avi\n",
            "./UCF101_subset/train/Archery/v_Archery_g22_c02.avi\n",
            "./UCF101_subset/train/Archery/v_Archery_g08_c01.avi\n",
            "./UCF101_subset/train/Archery/v_Archery_g25_c04.avi\n",
            "./UCF101_subset/train/Archery/v_Archery_g03_c04.avi\n",
            "./UCF101_subset/train/Archery/v_Archery_g20_c05.avi\n",
            "./UCF101_subset/train/Archery/v_Archery_g25_c06.avi\n",
            "./UCF101_subset/train/Archery/v_Archery_g06_c03.avi\n",
            "./UCF101_subset/train/Archery/v_Archery_g20_c03.avi\n",
            "./UCF101_subset/train/Archery/v_Archery_g24_c06.avi\n",
            "./UCF101_subset/train/Archery/v_Archery_g07_c03.avi\n",
            "./UCF101_subset/train/Archery/v_Archery_g01_c04.avi\n",
            "./UCF101_subset/train/Archery/v_Archery_g04_c05.avi\n",
            "./UCF101_subset/train/Archery/v_Archery_g09_c04.avi\n",
            "./UCF101_subset/train/Archery/v_Archery_g20_c01.avi\n",
            "./UCF101_subset/train/Archery/v_Archery_g01_c06.avi\n",
            "./UCF101_subset/train/Archery/v_Archery_g18_c04.avi\n",
            "./UCF101_subset/train/Archery/v_Archery_g13_c05.avi\n",
            "./UCF101_subset/train/Archery/v_Archery_g21_c04.avi\n",
            "./UCF101_subset/train/BasketballDunk\n",
            "./UCF101_subset/train/BasketballDunk/v_BasketballDunk_g20_c05.avi\n",
            "./UCF101_subset/train/BasketballDunk/UCF101\n",
            "./UCF101_subset/train/BasketballDunk/v_BasketballDunk_g16_c06.avi\n",
            "./UCF101_subset/train/BasketballDunk/v_BasketballDunk_g06_c01.avi\n",
            "./UCF101_subset/train/BasketballDunk/v_BasketballDunk_g02_c03.avi\n",
            "./UCF101_subset/train/BasketballDunk/v_BasketballDunk_g23_c03.avi\n",
            "./UCF101_subset/train/BasketballDunk/v_BasketballDunk_g08_c01.avi\n",
            "./UCF101_subset/train/BasketballDunk/v_BasketballDunk_g17_c04.avi\n",
            "./UCF101_subset/train/BasketballDunk/v_BasketballDunk_g04_c01.avi\n",
            "./UCF101_subset/train/BasketballDunk/v_BasketballDunk_g20_c01.avi\n",
            "./UCF101_subset/train/BasketballDunk/v_BasketballDunk_g19_c03.avi\n",
            "./UCF101_subset/train/BasketballDunk/v_BasketballDunk_g23_c01.avi\n",
            "./UCF101_subset/train/BasketballDunk/v_BasketballDunk_g15_c01.avi\n",
            "./UCF101_subset/train/BasketballDunk/v_BasketballDunk_g13_c02.avi\n",
            "./UCF101_subset/train/BasketballDunk/v_BasketballDunk_g24_c02.avi\n",
            "./UCF101_subset/train/BasketballDunk/v_BasketballDunk_g12_c03.avi\n",
            "./UCF101_subset/train/BasketballDunk/v_BasketballDunk_g03_c03.avi\n",
            "./UCF101_subset/train/BasketballDunk/v_BasketballDunk_g08_c05.avi\n",
            "./UCF101_subset/train/BasketballDunk/v_BasketballDunk_g07_c03.avi\n",
            "./UCF101_subset/train/BasketballDunk/v_BasketballDunk_g18_c05.avi\n",
            "./UCF101_subset/train/BasketballDunk/v_BasketballDunk_g05_c03.avi\n",
            "./UCF101_subset/train/BasketballDunk/v_BasketballDunk_g25_c01.avi\n",
            "./UCF101_subset/train/BasketballDunk/v_BasketballDunk_g11_c04.avi\n",
            "./UCF101_subset/train/BasketballDunk/v_BasketballDunk_g23_c05.avi\n",
            "./UCF101_subset/train/BasketballDunk/v_BasketballDunk_g08_c03.avi\n",
            "./UCF101_subset/train/BasketballDunk/v_BasketballDunk_g05_c05.avi\n",
            "./UCF101_subset/train/BasketballDunk/v_BasketballDunk_g15_c05.avi\n",
            "./UCF101_subset/train/BasketballDunk/v_BasketballDunk_g15_c03.avi\n",
            "./UCF101_subset/train/BasketballDunk/v_BasketballDunk_g07_c05.avi\n",
            "./UCF101_subset/train/BasketballDunk/v_BasketballDunk_g20_c03.avi\n",
            "./UCF101_subset/train/BasketballDunk/v_BasketballDunk_g01_c02.avi\n",
            "./UCF101_subset/train/Basketball\n",
            "./UCF101_subset/train/Basketball/v_Basketball_g12_c01.avi\n",
            "./UCF101_subset/train/Basketball/UCF101\n",
            "./UCF101_subset/train/Basketball/v_Basketball_g07_c04.avi\n",
            "./UCF101_subset/train/Basketball/v_Basketball_g21_c03.avi\n",
            "./UCF101_subset/train/Basketball/v_Basketball_g10_c03.avi\n",
            "./UCF101_subset/train/Basketball/v_Basketball_g22_c03.avi\n",
            "./UCF101_subset/train/Basketball/v_Basketball_g16_c06.avi\n",
            "./UCF101_subset/train/Basketball/v_Basketball_g02_c06.avi\n",
            "./UCF101_subset/train/Basketball/v_Basketball_g03_c04.avi\n",
            "./UCF101_subset/train/Basketball/v_Basketball_g25_c04.avi\n",
            "./UCF101_subset/train/Basketball/v_Basketball_g23_c04.avi\n",
            "./UCF101_subset/train/Basketball/v_Basketball_g01_c05.avi\n",
            "./UCF101_subset/train/Basketball/v_Basketball_g19_c01.avi\n",
            "./UCF101_subset/train/Basketball/v_Basketball_g22_c01.avi\n",
            "./UCF101_subset/train/Basketball/v_Basketball_g11_c04.avi\n",
            "./UCF101_subset/train/Basketball/v_Basketball_g17_c02.avi\n",
            "./UCF101_subset/train/Basketball/v_Basketball_g02_c02.avi\n",
            "./UCF101_subset/train/Basketball/v_Basketball_g02_c04.avi\n",
            "./UCF101_subset/train/Basketball/v_Basketball_g20_c06.avi\n",
            "./UCF101_subset/train/Basketball/v_Basketball_g09_c04.avi\n",
            "./UCF101_subset/train/Basketball/v_Basketball_g15_c05.avi\n",
            "./UCF101_subset/train/Basketball/v_Basketball_g01_c03.avi\n",
            "./UCF101_subset/train/Basketball/v_Basketball_g20_c04.avi\n",
            "./UCF101_subset/train/Basketball/v_Basketball_g01_c01.avi\n",
            "./UCF101_subset/train/Basketball/v_Basketball_g19_c05.avi\n",
            "./UCF101_subset/train/Basketball/v_Basketball_g23_c02.avi\n",
            "./UCF101_subset/train/Basketball/v_Basketball_g24_c02.avi\n",
            "./UCF101_subset/train/Basketball/v_Basketball_g15_c07.avi\n",
            "./UCF101_subset/train/Basketball/v_Basketball_g03_c02.avi\n",
            "./UCF101_subset/train/Basketball/v_Basketball_g22_c07.avi\n",
            "./UCF101_subset/train/Basketball/v_Basketball_g01_c07.avi\n",
            "./UCF101_subset/train/BenchPress\n",
            "./UCF101_subset/train/BenchPress/UCF101\n",
            "./UCF101_subset/train/BenchPress/v_BenchPress_g07_c02.avi\n",
            "./UCF101_subset/train/BenchPress/v_BenchPress_g18_c07.avi\n",
            "./UCF101_subset/train/BenchPress/v_BenchPress_g25_c06.avi\n",
            "./UCF101_subset/train/BenchPress/v_BenchPress_g03_c02.avi\n",
            "./UCF101_subset/train/BenchPress/v_BenchPress_g04_c05.avi\n",
            "./UCF101_subset/train/BenchPress/v_BenchPress_g09_c02.avi\n",
            "./UCF101_subset/train/BenchPress/v_BenchPress_g23_c04.avi\n",
            "./UCF101_subset/train/BenchPress/v_BenchPress_g22_c01.avi\n",
            "./UCF101_subset/train/BenchPress/v_BenchPress_g18_c03.avi\n",
            "./UCF101_subset/train/BenchPress/v_BenchPress_g21_c01.avi\n",
            "./UCF101_subset/train/BenchPress/v_BenchPress_g06_c05.avi\n",
            "./UCF101_subset/train/BenchPress/v_BenchPress_g19_c04.avi\n",
            "./UCF101_subset/train/BenchPress/v_BenchPress_g02_c03.avi\n",
            "./UCF101_subset/train/BenchPress/v_BenchPress_g21_c03.avi\n",
            "./UCF101_subset/train/BenchPress/v_BenchPress_g12_c04.avi\n",
            "./UCF101_subset/train/BenchPress/v_BenchPress_g04_c01.avi\n",
            "./UCF101_subset/train/BenchPress/v_BenchPress_g13_c05.avi\n",
            "./UCF101_subset/train/BenchPress/v_BenchPress_g18_c05.avi\n",
            "./UCF101_subset/train/BenchPress/v_BenchPress_g01_c01.avi\n",
            "./UCF101_subset/train/BenchPress/v_BenchPress_g19_c02.avi\n",
            "./UCF101_subset/train/BenchPress/v_BenchPress_g25_c02.avi\n",
            "./UCF101_subset/train/BenchPress/v_BenchPress_g20_c04.avi\n",
            "./UCF101_subset/train/BenchPress/v_BenchPress_g03_c04.avi\n",
            "./UCF101_subset/train/BenchPress/v_BenchPress_g10_c03.avi\n",
            "./UCF101_subset/train/BenchPress/v_BenchPress_g16_c03.avi\n",
            "./UCF101_subset/train/BenchPress/v_BenchPress_g14_c04.avi\n",
            "./UCF101_subset/train/BenchPress/v_BenchPress_g05_c02.avi\n",
            "./UCF101_subset/train/BenchPress/v_BenchPress_g09_c06.avi\n",
            "./UCF101_subset/train/BenchPress/v_BenchPress_g24_c05.avi\n",
            "./UCF101_subset/train/BenchPress/v_BenchPress_g16_c01.avi\n",
            "./UCF101_subset/train/BaseballPitch\n",
            "./UCF101_subset/train/BaseballPitch/UCF101\n",
            "./UCF101_subset/train/BaseballPitch/v_BaseballPitch_g02_c02.avi\n",
            "./UCF101_subset/train/BaseballPitch/v_BaseballPitch_g17_c03.avi\n",
            "./UCF101_subset/train/BaseballPitch/v_BaseballPitch_g07_c04.avi\n",
            "./UCF101_subset/train/BaseballPitch/v_BaseballPitch_g12_c03.avi\n",
            "./UCF101_subset/train/BaseballPitch/v_BaseballPitch_g09_c04.avi\n",
            "./UCF101_subset/train/BaseballPitch/v_BaseballPitch_g07_c02.avi\n",
            "./UCF101_subset/train/BaseballPitch/v_BaseballPitch_g05_c06.avi\n",
            "./UCF101_subset/train/BaseballPitch/v_BaseballPitch_g08_c01.avi\n",
            "./UCF101_subset/train/BaseballPitch/v_BaseballPitch_g22_c02.avi\n",
            "./UCF101_subset/train/BaseballPitch/v_BaseballPitch_g12_c01.avi\n",
            "./UCF101_subset/train/BaseballPitch/v_BaseballPitch_g01_c06.avi\n",
            "./UCF101_subset/train/BaseballPitch/v_BaseballPitch_g15_c02.avi\n",
            "./UCF101_subset/train/BaseballPitch/v_BaseballPitch_g09_c06.avi\n",
            "./UCF101_subset/train/BaseballPitch/v_BaseballPitch_g17_c01.avi\n",
            "./UCF101_subset/train/BaseballPitch/v_BaseballPitch_g05_c04.avi\n",
            "./UCF101_subset/train/BaseballPitch/v_BaseballPitch_g11_c04.avi\n",
            "./UCF101_subset/train/BaseballPitch/v_BaseballPitch_g06_c01.avi\n",
            "./UCF101_subset/train/BaseballPitch/v_BaseballPitch_g25_c07.avi\n",
            "./UCF101_subset/train/BaseballPitch/v_BaseballPitch_g17_c07.avi\n",
            "./UCF101_subset/train/BaseballPitch/v_BaseballPitch_g15_c06.avi\n",
            "./UCF101_subset/train/BaseballPitch/v_BaseballPitch_g21_c02.avi\n",
            "./UCF101_subset/train/BaseballPitch/v_BaseballPitch_g20_c04.avi\n",
            "./UCF101_subset/train/BaseballPitch/v_BaseballPitch_g19_c03.avi\n",
            "./UCF101_subset/train/BaseballPitch/v_BaseballPitch_g16_c03.avi\n",
            "./UCF101_subset/train/BaseballPitch/v_BaseballPitch_g14_c04.avi\n",
            "./UCF101_subset/train/BaseballPitch/v_BaseballPitch_g24_c06.avi\n",
            "./UCF101_subset/train/BaseballPitch/v_BaseballPitch_g08_c07.avi\n",
            "./UCF101_subset/train/BaseballPitch/v_BaseballPitch_g22_c06.avi\n",
            "./UCF101_subset/train/BaseballPitch/v_BaseballPitch_g08_c03.avi\n",
            "./UCF101_subset/train/BaseballPitch/v_BaseballPitch_g03_c06.avi\n",
            "./UCF101_subset/train/BandMarching\n",
            "./UCF101_subset/train/BandMarching/UCF101\n",
            "./UCF101_subset/train/BandMarching/v_BandMarching_g24_c05.avi\n",
            "./UCF101_subset/train/BandMarching/v_BandMarching_g21_c06.avi\n",
            "./UCF101_subset/train/BandMarching/v_BandMarching_g09_c03.avi\n",
            "./UCF101_subset/train/BandMarching/v_BandMarching_g09_c07.avi\n",
            "./UCF101_subset/train/BandMarching/v_BandMarching_g10_c06.avi\n",
            "./UCF101_subset/train/BandMarching/v_BandMarching_g23_c03.avi\n",
            "./UCF101_subset/train/BandMarching/v_BandMarching_g17_c03.avi\n",
            "./UCF101_subset/train/BandMarching/v_BandMarching_g21_c02.avi\n",
            "./UCF101_subset/train/BandMarching/v_BandMarching_g07_c03.avi\n",
            "./UCF101_subset/train/BandMarching/v_BandMarching_g14_c01.avi\n",
            "./UCF101_subset/train/BandMarching/v_BandMarching_g16_c02.avi\n",
            "./UCF101_subset/train/BandMarching/v_BandMarching_g14_c03.avi\n",
            "./UCF101_subset/train/BandMarching/v_BandMarching_g04_c04.avi\n",
            "./UCF101_subset/train/BandMarching/v_BandMarching_g08_c04.avi\n",
            "./UCF101_subset/train/BandMarching/v_BandMarching_g15_c07.avi\n",
            "./UCF101_subset/train/BandMarching/v_BandMarching_g18_c01.avi\n",
            "./UCF101_subset/train/BandMarching/v_BandMarching_g23_c01.avi\n",
            "./UCF101_subset/train/BandMarching/v_BandMarching_g03_c01.avi\n",
            "./UCF101_subset/train/BandMarching/v_BandMarching_g22_c02.avi\n",
            "./UCF101_subset/train/BandMarching/v_BandMarching_g08_c02.avi\n",
            "./UCF101_subset/train/BandMarching/v_BandMarching_g18_c03.avi\n",
            "./UCF101_subset/train/BandMarching/v_BandMarching_g20_c04.avi\n",
            "./UCF101_subset/train/BandMarching/v_BandMarching_g06_c01.avi\n",
            "./UCF101_subset/train/BandMarching/v_BandMarching_g04_c02.avi\n",
            "./UCF101_subset/train/BandMarching/v_BandMarching_g16_c04.avi\n",
            "./UCF101_subset/train/BandMarching/v_BandMarching_g11_c05.avi\n",
            "./UCF101_subset/train/BandMarching/v_BandMarching_g02_c02.avi\n",
            "./UCF101_subset/train/BandMarching/v_BandMarching_g21_c04.avi\n",
            "./UCF101_subset/train/BandMarching/v_BandMarching_g08_c06.avi\n",
            "./UCF101_subset/train/BandMarching/v_BandMarching_g15_c03.avi\n",
            "./UCF101_subset/train/BalanceBeam\n",
            "./UCF101_subset/train/BalanceBeam/UCF101\n",
            "./UCF101_subset/train/BalanceBeam/v_BalanceBeam_g24_c01.avi\n",
            "./UCF101_subset/train/BalanceBeam/v_BalanceBeam_g24_c03.avi\n",
            "./UCF101_subset/train/BalanceBeam/v_BalanceBeam_g05_c03.avi\n",
            "./UCF101_subset/train/BalanceBeam/v_BalanceBeam_g09_c04.avi\n",
            "./UCF101_subset/train/BalanceBeam/v_BalanceBeam_g17_c05.avi\n",
            "./UCF101_subset/train/BalanceBeam/v_BalanceBeam_g08_c02.avi\n",
            "./UCF101_subset/train/BalanceBeam/v_BalanceBeam_g03_c01.avi\n",
            "./UCF101_subset/train/BalanceBeam/v_BalanceBeam_g16_c01.avi\n",
            "./UCF101_subset/train/BalanceBeam/v_BalanceBeam_g17_c01.avi\n",
            "./UCF101_subset/train/BalanceBeam/v_BalanceBeam_g22_c02.avi\n",
            "./UCF101_subset/train/BalanceBeam/v_BalanceBeam_g09_c02.avi\n",
            "./UCF101_subset/train/BalanceBeam/v_BalanceBeam_g02_c03.avi\n",
            "./UCF101_subset/train/BalanceBeam/v_BalanceBeam_g03_c03.avi\n",
            "./UCF101_subset/train/BalanceBeam/v_BalanceBeam_g23_c02.avi\n",
            "./UCF101_subset/train/BalanceBeam/v_BalanceBeam_g07_c04.avi\n",
            "./UCF101_subset/train/BalanceBeam/v_BalanceBeam_g13_c04.avi\n",
            "./UCF101_subset/train/BalanceBeam/v_BalanceBeam_g19_c01.avi\n",
            "./UCF101_subset/train/BalanceBeam/v_BalanceBeam_g12_c04.avi\n",
            "./UCF101_subset/train/BalanceBeam/v_BalanceBeam_g07_c02.avi\n",
            "./UCF101_subset/train/BalanceBeam/v_BalanceBeam_g20_c03.avi\n",
            "./UCF101_subset/train/BalanceBeam/v_BalanceBeam_g10_c02.avi\n",
            "./UCF101_subset/train/BalanceBeam/v_BalanceBeam_g25_c03.avi\n",
            "./UCF101_subset/train/BalanceBeam/v_BalanceBeam_g17_c03.avi\n",
            "./UCF101_subset/train/BalanceBeam/v_BalanceBeam_g12_c02.avi\n",
            "./UCF101_subset/train/BalanceBeam/v_BalanceBeam_g04_c03.avi\n",
            "./UCF101_subset/train/BalanceBeam/v_BalanceBeam_g22_c04.avi\n",
            "./UCF101_subset/train/BalanceBeam/v_BalanceBeam_g02_c01.avi\n",
            "./UCF101_subset/train/BalanceBeam/v_BalanceBeam_g15_c03.avi\n",
            "./UCF101_subset/train/BalanceBeam/v_BalanceBeam_g06_c05.avi\n",
            "./UCF101_subset/train/BalanceBeam/v_BalanceBeam_g13_c02.avi\n",
            "./UCF101_subset/train/BabyCrawling\n",
            "./UCF101_subset/train/BabyCrawling/UCF101\n",
            "./UCF101_subset/train/BabyCrawling/v_BabyCrawling_g04_c01.avi\n",
            "./UCF101_subset/train/BabyCrawling/v_BabyCrawling_g10_c02.avi\n",
            "./UCF101_subset/train/BabyCrawling/v_BabyCrawling_g21_c04.avi\n",
            "./UCF101_subset/train/BabyCrawling/v_BabyCrawling_g18_c02.avi\n",
            "./UCF101_subset/train/BabyCrawling/v_BabyCrawling_g17_c05.avi\n",
            "./UCF101_subset/train/BabyCrawling/v_BabyCrawling_g10_c04.avi\n",
            "./UCF101_subset/train/BabyCrawling/v_BabyCrawling_g22_c06.avi\n",
            "./UCF101_subset/train/BabyCrawling/v_BabyCrawling_g24_c01.avi\n",
            "./UCF101_subset/train/BabyCrawling/v_BabyCrawling_g23_c01.avi\n",
            "./UCF101_subset/train/BabyCrawling/v_BabyCrawling_g20_c03.avi\n",
            "./UCF101_subset/train/BabyCrawling/v_BabyCrawling_g07_c06.avi\n",
            "./UCF101_subset/train/BabyCrawling/v_BabyCrawling_g08_c02.avi\n",
            "./UCF101_subset/train/BabyCrawling/v_BabyCrawling_g17_c01.avi\n",
            "./UCF101_subset/train/BabyCrawling/v_BabyCrawling_g03_c03.avi\n",
            "./UCF101_subset/train/BabyCrawling/v_BabyCrawling_g01_c03.avi\n",
            "./UCF101_subset/train/BabyCrawling/v_BabyCrawling_g24_c05.avi\n",
            "./UCF101_subset/train/BabyCrawling/v_BabyCrawling_g01_c01.avi\n",
            "./UCF101_subset/train/BabyCrawling/v_BabyCrawling_g16_c03.avi\n",
            "./UCF101_subset/train/BabyCrawling/v_BabyCrawling_g22_c04.avi\n",
            "./UCF101_subset/train/BabyCrawling/v_BabyCrawling_g04_c03.avi\n",
            "./UCF101_subset/train/BabyCrawling/v_BabyCrawling_g08_c04.avi\n",
            "./UCF101_subset/train/BabyCrawling/v_BabyCrawling_g07_c04.avi\n",
            "./UCF101_subset/train/BabyCrawling/v_BabyCrawling_g16_c01.avi\n",
            "./UCF101_subset/train/BabyCrawling/v_BabyCrawling_g07_c02.avi\n",
            "./UCF101_subset/train/BabyCrawling/v_BabyCrawling_g09_c02.avi\n",
            "./UCF101_subset/train/BabyCrawling/v_BabyCrawling_g14_c01.avi\n",
            "./UCF101_subset/train/BabyCrawling/v_BabyCrawling_g06_c04.avi\n",
            "./UCF101_subset/train/BabyCrawling/v_BabyCrawling_g09_c04.avi\n",
            "./UCF101_subset/train/BabyCrawling/v_BabyCrawling_g06_c06.avi\n",
            "./UCF101_subset/train/BabyCrawling/v_BabyCrawling_g15_c03.avi\n",
            "./UCF101_subset/test\n",
            "./UCF101_subset/test/ApplyEyeMakeup\n",
            "./UCF101_subset/test/ApplyEyeMakeup/UCF101\n",
            "./UCF101_subset/test/ApplyEyeMakeup/v_ApplyEyeMakeup_g20_c04.avi\n",
            "./UCF101_subset/test/ApplyEyeMakeup/v_ApplyEyeMakeup_g19_c02.avi\n",
            "./UCF101_subset/test/ApplyEyeMakeup/v_ApplyEyeMakeup_g11_c02.avi\n",
            "./UCF101_subset/test/ApplyEyeMakeup/v_ApplyEyeMakeup_g09_c04.avi\n",
            "./UCF101_subset/test/ApplyEyeMakeup/v_ApplyEyeMakeup_g04_c05.avi\n",
            "./UCF101_subset/test/ApplyEyeMakeup/v_ApplyEyeMakeup_g13_c03.avi\n",
            "./UCF101_subset/test/ApplyEyeMakeup/v_ApplyEyeMakeup_g08_c03.avi\n",
            "./UCF101_subset/test/ApplyEyeMakeup/v_ApplyEyeMakeup_g21_c02.avi\n",
            "./UCF101_subset/test/ApplyEyeMakeup/v_ApplyEyeMakeup_g03_c01.avi\n",
            "./UCF101_subset/test/ApplyEyeMakeup/v_ApplyEyeMakeup_g25_c05.avi\n",
            "./UCF101_subset/test/ApplyLipstick\n",
            "./UCF101_subset/test/ApplyLipstick/UCF101\n",
            "./UCF101_subset/test/ApplyLipstick/v_ApplyLipstick_g13_c01.avi\n",
            "./UCF101_subset/test/ApplyLipstick/v_ApplyLipstick_g05_c04.avi\n",
            "./UCF101_subset/test/ApplyLipstick/v_ApplyLipstick_g14_c01.avi\n",
            "./UCF101_subset/test/ApplyLipstick/v_ApplyLipstick_g15_c05.avi\n",
            "./UCF101_subset/test/ApplyLipstick/v_ApplyLipstick_g22_c04.avi\n",
            "./UCF101_subset/test/ApplyLipstick/v_ApplyLipstick_g22_c06.avi\n",
            "./UCF101_subset/test/ApplyLipstick/v_ApplyLipstick_g22_c02.avi\n",
            "./UCF101_subset/test/ApplyLipstick/v_ApplyLipstick_g12_c04.avi\n",
            "./UCF101_subset/test/ApplyLipstick/v_ApplyLipstick_g11_c04.avi\n",
            "./UCF101_subset/test/ApplyLipstick/v_ApplyLipstick_g16_c02.avi\n",
            "./UCF101_subset/test/Archery\n",
            "./UCF101_subset/test/Archery/UCF101\n",
            "./UCF101_subset/test/Archery/v_Archery_g17_c02.avi\n",
            "./UCF101_subset/test/Archery/v_Archery_g03_c02.avi\n",
            "./UCF101_subset/test/Archery/v_Archery_g08_c03.avi\n",
            "./UCF101_subset/test/Archery/v_Archery_g01_c02.avi\n",
            "./UCF101_subset/test/Archery/v_Archery_g25_c02.avi\n",
            "./UCF101_subset/test/Archery/v_Archery_g16_c01.avi\n",
            "./UCF101_subset/test/Archery/v_Archery_g05_c04.avi\n",
            "./UCF101_subset/test/Archery/v_Archery_g13_c07.avi\n",
            "./UCF101_subset/test/Archery/v_Archery_g13_c01.avi\n",
            "./UCF101_subset/test/Archery/v_Archery_g19_c01.avi\n",
            "./UCF101_subset/test/BasketballDunk\n",
            "./UCF101_subset/test/BasketballDunk/UCF101\n",
            "./UCF101_subset/test/BasketballDunk/v_BasketballDunk_g01_c06.avi\n",
            "./UCF101_subset/test/BasketballDunk/v_BasketballDunk_g17_c02.avi\n",
            "./UCF101_subset/test/BasketballDunk/v_BasketballDunk_g14_c06.avi\n",
            "./UCF101_subset/test/BasketballDunk/v_BasketballDunk_g07_c01.avi\n",
            "./UCF101_subset/test/BasketballDunk/v_BasketballDunk_g10_c05.avi\n",
            "./UCF101_subset/test/BasketballDunk/v_BasketballDunk_g25_c03.avi\n",
            "./UCF101_subset/test/BasketballDunk/v_BasketballDunk_g11_c02.avi\n",
            "./UCF101_subset/test/BasketballDunk/v_BasketballDunk_g24_c04.avi\n",
            "./UCF101_subset/test/BasketballDunk/v_BasketballDunk_g12_c05.avi\n",
            "./UCF101_subset/test/BasketballDunk/v_BasketballDunk_g01_c04.avi\n",
            "./UCF101_subset/test/Basketball\n",
            "./UCF101_subset/test/Basketball/UCF101\n",
            "./UCF101_subset/test/Basketball/v_Basketball_g03_c06.avi\n",
            "./UCF101_subset/test/Basketball/v_Basketball_g19_c07.avi\n",
            "./UCF101_subset/test/Basketball/v_Basketball_g24_c04.avi\n",
            "./UCF101_subset/test/Basketball/v_Basketball_g10_c01.avi\n",
            "./UCF101_subset/test/Basketball/v_Basketball_g21_c05.avi\n",
            "./UCF101_subset/test/Basketball/v_Basketball_g04_c02.avi\n",
            "./UCF101_subset/test/Basketball/v_Basketball_g09_c02.avi\n",
            "./UCF101_subset/test/Basketball/v_Basketball_g06_c04.avi\n",
            "./UCF101_subset/test/Basketball/v_Basketball_g05_c04.avi\n",
            "./UCF101_subset/test/Basketball/v_Basketball_g21_c01.avi\n",
            "./UCF101_subset/test/BenchPress\n",
            "./UCF101_subset/test/BenchPress/UCF101\n",
            "./UCF101_subset/test/BenchPress/v_BenchPress_g07_c06.avi\n",
            "./UCF101_subset/test/BenchPress/v_BenchPress_g24_c07.avi\n",
            "./UCF101_subset/test/BenchPress/v_BenchPress_g12_c02.avi\n",
            "./UCF101_subset/test/BenchPress/v_BenchPress_g08_c07.avi\n",
            "./UCF101_subset/test/BenchPress/v_BenchPress_g14_c06.avi\n",
            "./UCF101_subset/test/BenchPress/v_BenchPress_g22_c07.avi\n",
            "./UCF101_subset/test/BenchPress/v_BenchPress_g19_c06.avi\n",
            "./UCF101_subset/test/BenchPress/v_BenchPress_g23_c02.avi\n",
            "./UCF101_subset/test/BenchPress/v_BenchPress_g15_c03.avi\n",
            "./UCF101_subset/test/BenchPress/v_BenchPress_g11_c05.avi\n",
            "./UCF101_subset/test/BaseballPitch\n",
            "./UCF101_subset/test/BaseballPitch/UCF101\n",
            "./UCF101_subset/test/BaseballPitch/v_BaseballPitch_g09_c02.avi\n",
            "./UCF101_subset/test/BaseballPitch/v_BaseballPitch_g05_c02.avi\n",
            "./UCF101_subset/test/BaseballPitch/v_BaseballPitch_g18_c04.avi\n",
            "./UCF101_subset/test/BaseballPitch/v_BaseballPitch_g04_c05.avi\n",
            "./UCF101_subset/test/BaseballPitch/v_BaseballPitch_g10_c01.avi\n",
            "./UCF101_subset/test/BaseballPitch/v_BaseballPitch_g06_c05.avi\n",
            "./UCF101_subset/test/BaseballPitch/v_BaseballPitch_g19_c01.avi\n",
            "./UCF101_subset/test/BaseballPitch/v_BaseballPitch_g06_c03.avi\n",
            "./UCF101_subset/test/BaseballPitch/v_BaseballPitch_g21_c04.avi\n",
            "./UCF101_subset/test/BaseballPitch/v_BaseballPitch_g22_c04.avi\n",
            "./UCF101_subset/test/BandMarching\n",
            "./UCF101_subset/test/BandMarching/UCF101\n",
            "./UCF101_subset/test/BandMarching/v_BandMarching_g11_c01.avi\n",
            "./UCF101_subset/test/BandMarching/v_BandMarching_g19_c03.avi\n",
            "./UCF101_subset/test/BandMarching/v_BandMarching_g03_c05.avi\n",
            "./UCF101_subset/test/BandMarching/v_BandMarching_g25_c07.avi\n",
            "./UCF101_subset/test/BandMarching/v_BandMarching_g07_c05.avi\n",
            "./UCF101_subset/test/BandMarching/v_BandMarching_g19_c07.avi\n",
            "./UCF101_subset/test/BandMarching/v_BandMarching_g20_c06.avi\n",
            "./UCF101_subset/test/BandMarching/v_BandMarching_g10_c02.avi\n",
            "./UCF101_subset/test/BandMarching/v_BandMarching_g01_c07.avi\n",
            "./UCF101_subset/test/BandMarching/v_BandMarching_g03_c03.avi\n",
            "./UCF101_subset/test/BalanceBeam\n",
            "./UCF101_subset/test/BalanceBeam/UCF101\n",
            "./UCF101_subset/test/BalanceBeam/v_BalanceBeam_g18_c01.avi\n",
            "./UCF101_subset/test/BalanceBeam/v_BalanceBeam_g16_c03.avi\n",
            "./UCF101_subset/test/BalanceBeam/v_BalanceBeam_g08_c04.avi\n",
            "./UCF101_subset/test/BalanceBeam/v_BalanceBeam_g14_c01.avi\n",
            "./UCF101_subset/test/BalanceBeam/v_BalanceBeam_g06_c01.avi\n",
            "./UCF101_subset/test/BalanceBeam/v_BalanceBeam_g06_c07.avi\n",
            "./UCF101_subset/test/BalanceBeam/v_BalanceBeam_g19_c03.avi\n",
            "./UCF101_subset/test/BalanceBeam/v_BalanceBeam_g05_c01.avi\n",
            "./UCF101_subset/test/BalanceBeam/v_BalanceBeam_g01_c03.avi\n",
            "./UCF101_subset/test/BalanceBeam/v_BalanceBeam_g21_c05.avi\n",
            "./UCF101_subset/test/BabyCrawling\n",
            "./UCF101_subset/test/BabyCrawling/UCF101\n",
            "./UCF101_subset/test/BabyCrawling/v_BabyCrawling_g19_c02.avi\n",
            "./UCF101_subset/test/BabyCrawling/v_BabyCrawling_g18_c06.avi\n",
            "./UCF101_subset/test/BabyCrawling/v_BabyCrawling_g18_c04.avi\n",
            "./UCF101_subset/test/BabyCrawling/v_BabyCrawling_g24_c03.avi\n",
            "./UCF101_subset/test/BabyCrawling/v_BabyCrawling_g20_c07.avi\n",
            "./UCF101_subset/test/BabyCrawling/v_BabyCrawling_g05_c03.avi\n",
            "./UCF101_subset/test/BabyCrawling/v_BabyCrawling_g06_c02.avi\n",
            "./UCF101_subset/test/BabyCrawling/v_BabyCrawling_g12_c01.avi\n",
            "./UCF101_subset/test/BabyCrawling/v_BabyCrawling_g11_c01.avi\n",
            "./UCF101_subset/test/BabyCrawling/v_BabyCrawling_g02_c05.avi\n",
            "./UCF101_subset/val\n",
            "./UCF101_subset/val/ApplyEyeMakeup\n",
            "./UCF101_subset/val/ApplyEyeMakeup/UCF101\n",
            "./UCF101_subset/val/ApplyEyeMakeup/v_ApplyEyeMakeup_g21_c04.avi\n",
            "./UCF101_subset/val/ApplyEyeMakeup/v_ApplyEyeMakeup_g10_c01.avi\n",
            "./UCF101_subset/val/ApplyEyeMakeup/v_ApplyEyeMakeup_g09_c02.avi\n",
            "./UCF101_subset/val/ApplyEyeMakeup/v_ApplyEyeMakeup_g03_c03.avi\n",
            "./UCF101_subset/val/ApplyEyeMakeup/v_ApplyEyeMakeup_g25_c07.avi\n",
            "./UCF101_subset/val/ApplyEyeMakeup/v_ApplyEyeMakeup_g08_c01.avi\n",
            "./UCF101_subset/val/ApplyEyeMakeup/v_ApplyEyeMakeup_g24_c04.avi\n",
            "./UCF101_subset/val/ApplyEyeMakeup/v_ApplyEyeMakeup_g10_c05.avi\n",
            "./UCF101_subset/val/ApplyEyeMakeup/v_ApplyEyeMakeup_g20_c02.avi\n",
            "./UCF101_subset/val/ApplyEyeMakeup/v_ApplyEyeMakeup_g15_c04.avi\n",
            "./UCF101_subset/val/ApplyLipstick\n",
            "./UCF101_subset/val/ApplyLipstick/UCF101\n",
            "./UCF101_subset/val/ApplyLipstick/v_ApplyLipstick_g24_c05.avi\n",
            "./UCF101_subset/val/ApplyLipstick/v_ApplyLipstick_g03_c03.avi\n",
            "./UCF101_subset/val/ApplyLipstick/v_ApplyLipstick_g21_c01.avi\n",
            "./UCF101_subset/val/ApplyLipstick/v_ApplyLipstick_g17_c03.avi\n",
            "./UCF101_subset/val/ApplyLipstick/v_ApplyLipstick_g17_c01.avi\n",
            "./UCF101_subset/val/ApplyLipstick/v_ApplyLipstick_g08_c04.avi\n",
            "./UCF101_subset/val/ApplyLipstick/v_ApplyLipstick_g11_c02.avi\n",
            "./UCF101_subset/val/ApplyLipstick/v_ApplyLipstick_g19_c02.avi\n",
            "./UCF101_subset/val/ApplyLipstick/v_ApplyLipstick_g01_c04.avi\n",
            "./UCF101_subset/val/ApplyLipstick/v_ApplyLipstick_g21_c05.avi\n",
            "./UCF101_subset/val/Archery\n",
            "./UCF101_subset/val/Archery/UCF101\n",
            "./UCF101_subset/val/Archery/v_Archery_g04_c01.avi\n",
            "./UCF101_subset/val/Archery/v_Archery_g14_c04.avi\n",
            "./UCF101_subset/val/Archery/v_Archery_g15_c06.avi\n",
            "./UCF101_subset/val/Archery/v_Archery_g16_c03.avi\n",
            "./UCF101_subset/val/Archery/v_Archery_g09_c02.avi\n",
            "./UCF101_subset/val/Archery/v_Archery_g04_c03.avi\n",
            "./UCF101_subset/val/Archery/v_Archery_g07_c01.avi\n",
            "./UCF101_subset/val/Archery/v_Archery_g23_c01.avi\n",
            "./UCF101_subset/val/Archery/v_Archery_g06_c01.avi\n",
            "./UCF101_subset/val/Archery/v_Archery_g18_c02.avi\n",
            "./UCF101_subset/val/BasketballDunk\n",
            "./UCF101_subset/val/BasketballDunk/UCF101\n",
            "./UCF101_subset/val/BasketballDunk/v_BasketballDunk_g22_c01.avi\n",
            "./UCF101_subset/val/BasketballDunk/v_BasketballDunk_g02_c01.avi\n",
            "./UCF101_subset/val/BasketballDunk/v_BasketballDunk_g17_c06.avi\n",
            "./UCF101_subset/val/BasketballDunk/v_BasketballDunk_g15_c07.avi\n",
            "./UCF101_subset/val/BasketballDunk/v_BasketballDunk_g13_c04.avi\n",
            "./UCF101_subset/val/BasketballDunk/v_BasketballDunk_g05_c01.avi\n",
            "./UCF101_subset/val/BasketballDunk/v_BasketballDunk_g18_c03.avi\n",
            "./UCF101_subset/val/BasketballDunk/v_BasketballDunk_g09_c04.avi\n",
            "./UCF101_subset/val/BasketballDunk/v_BasketballDunk_g18_c01.avi\n",
            "./UCF101_subset/val/BasketballDunk/v_BasketballDunk_g12_c01.avi\n",
            "./UCF101_subset/val/Basketball\n",
            "./UCF101_subset/val/Basketball/UCF101\n",
            "./UCF101_subset/val/Basketball/v_Basketball_g13_c04.avi\n",
            "./UCF101_subset/val/Basketball/v_Basketball_g14_c02.avi\n",
            "./UCF101_subset/val/Basketball/v_Basketball_g20_c02.avi\n",
            "./UCF101_subset/val/Basketball/v_Basketball_g08_c04.avi\n",
            "./UCF101_subset/val/Basketball/v_Basketball_g15_c01.avi\n",
            "./UCF101_subset/val/Basketball/v_Basketball_g11_c02.avi\n",
            "./UCF101_subset/val/Basketball/v_Basketball_g16_c04.avi\n",
            "./UCF101_subset/val/Basketball/v_Basketball_g18_c04.avi\n",
            "./UCF101_subset/val/Basketball/v_Basketball_g22_c05.avi\n",
            "./UCF101_subset/val/Basketball/v_Basketball_g12_c03.avi\n",
            "./UCF101_subset/val/BenchPress\n",
            "./UCF101_subset/val/BenchPress/UCF101\n",
            "./UCF101_subset/val/BenchPress/v_BenchPress_g13_c03.avi\n",
            "./UCF101_subset/val/BenchPress/v_BenchPress_g13_c07.avi\n",
            "./UCF101_subset/val/BenchPress/v_BenchPress_g02_c05.avi\n",
            "./UCF101_subset/val/BenchPress/v_BenchPress_g15_c01.avi\n",
            "./UCF101_subset/val/BenchPress/v_BenchPress_g07_c04.avi\n",
            "./UCF101_subset/val/BenchPress/v_BenchPress_g05_c04.avi\n",
            "./UCF101_subset/val/BenchPress/v_BenchPress_g20_c02.avi\n",
            "./UCF101_subset/val/BenchPress/v_BenchPress_g15_c05.avi\n",
            "./UCF101_subset/val/BenchPress/v_BenchPress_g11_c03.avi\n",
            "./UCF101_subset/val/BenchPress/v_BenchPress_g06_c07.avi\n",
            "./UCF101_subset/val/BaseballPitch\n",
            "./UCF101_subset/val/BaseballPitch/UCF101\n",
            "./UCF101_subset/val/BaseballPitch/v_BaseballPitch_g04_c01.avi\n",
            "./UCF101_subset/val/BaseballPitch/v_BaseballPitch_g04_c03.avi\n",
            "./UCF101_subset/val/BaseballPitch/v_BaseballPitch_g10_c03.avi\n",
            "./UCF101_subset/val/BaseballPitch/v_BaseballPitch_g01_c04.avi\n",
            "./UCF101_subset/val/BaseballPitch/v_BaseballPitch_g06_c07.avi\n",
            "./UCF101_subset/val/BaseballPitch/v_BaseballPitch_g25_c05.avi\n",
            "./UCF101_subset/val/BaseballPitch/v_BaseballPitch_g23_c05.avi\n",
            "./UCF101_subset/val/BaseballPitch/v_BaseballPitch_g18_c06.avi\n",
            "./UCF101_subset/val/BaseballPitch/v_BaseballPitch_g18_c02.avi\n",
            "./UCF101_subset/val/BaseballPitch/v_BaseballPitch_g03_c02.avi\n",
            "./UCF101_subset/val/BandMarching\n",
            "./UCF101_subset/val/BandMarching/UCF101\n",
            "./UCF101_subset/val/BandMarching/v_BandMarching_g11_c07.avi\n",
            "./UCF101_subset/val/BandMarching/v_BandMarching_g06_c03.avi\n",
            "./UCF101_subset/val/BandMarching/v_BandMarching_g07_c07.avi\n",
            "./UCF101_subset/val/BandMarching/v_BandMarching_g03_c07.avi\n",
            "./UCF101_subset/val/BandMarching/v_BandMarching_g05_c02.avi\n",
            "./UCF101_subset/val/BandMarching/v_BandMarching_g17_c01.avi\n",
            "./UCF101_subset/val/BandMarching/v_BandMarching_g25_c05.avi\n",
            "./UCF101_subset/val/BandMarching/v_BandMarching_g02_c06.avi\n",
            "./UCF101_subset/val/BandMarching/v_BandMarching_g22_c04.avi\n",
            "./UCF101_subset/val/BandMarching/v_BandMarching_g05_c04.avi\n",
            "./UCF101_subset/val/BalanceBeam\n",
            "./UCF101_subset/val/BalanceBeam/UCF101\n",
            "./UCF101_subset/val/BalanceBeam/v_BalanceBeam_g23_c04.avi\n",
            "./UCF101_subset/val/BalanceBeam/v_BalanceBeam_g10_c04.avi\n",
            "./UCF101_subset/val/BalanceBeam/v_BalanceBeam_g11_c02.avi\n",
            "./UCF101_subset/val/BalanceBeam/v_BalanceBeam_g21_c03.avi\n",
            "./UCF101_subset/val/BalanceBeam/v_BalanceBeam_g25_c01.avi\n",
            "./UCF101_subset/val/BalanceBeam/v_BalanceBeam_g14_c03.avi\n",
            "./UCF101_subset/val/BalanceBeam/v_BalanceBeam_g18_c03.avi\n",
            "./UCF101_subset/val/BalanceBeam/v_BalanceBeam_g04_c01.avi\n",
            "./UCF101_subset/val/BalanceBeam/v_BalanceBeam_g01_c01.avi\n",
            "./UCF101_subset/val/BalanceBeam/v_BalanceBeam_g11_c04.avi\n",
            "./UCF101_subset/val/BabyCrawling\n",
            "./UCF101_subset/val/BabyCrawling/UCF101\n",
            "./UCF101_subset/val/BabyCrawling/v_BabyCrawling_g14_c03.avi\n",
            "./UCF101_subset/val/BabyCrawling/v_BabyCrawling_g25_c01.avi\n",
            "./UCF101_subset/val/BabyCrawling/v_BabyCrawling_g19_c04.avi\n",
            "./UCF101_subset/val/BabyCrawling/v_BabyCrawling_g21_c02.avi\n",
            "./UCF101_subset/val/BabyCrawling/v_BabyCrawling_g12_c05.avi\n",
            "./UCF101_subset/val/BabyCrawling/v_BabyCrawling_g13_c05.avi\n",
            "./UCF101_subset/val/BabyCrawling/v_BabyCrawling_g22_c02.avi\n",
            "./UCF101_subset/val/BabyCrawling/v_BabyCrawling_g09_c06.avi\n",
            "./UCF101_subset/val/BabyCrawling/v_BabyCrawling_g20_c05.avi\n",
            "./UCF101_subset/val/BabyCrawling/v_BabyCrawling_g11_c03.avi\n"
          ]
        }
      ]
    },
    {
      "cell_type": "code",
      "source": [
        "def format_frames(frame, output_size):\n",
        "    frame = tf.image.convert_image_dtype(frame, tf.float32)\n",
        "    frame = tf.image.resize_with_pad(frame, *output_size)\n",
        "    return frame"
      ],
      "metadata": {
        "id": "Q9qvuwE8TYrV"
      },
      "execution_count": 20,
      "outputs": []
    },
    {
      "cell_type": "code",
      "source": [
        "def frames_from_video_file(video_path, n_frames, output_size = (224, 224), frame_step = 15):\n",
        "    result = []\n",
        "    src = cv2.VideoCapture(str(video_path))\n",
        "    video_length = src.get(cv2.CAP_PROP_FRAME_COUNT)\n",
        "    need_length = 1+ (n_frames - 1) * frame_step\n",
        "    if need_length > video_length:\n",
        "        start = 0\n",
        "    else:\n",
        "        max_start = video_length - need_length\n",
        "        start = random.randint(0, max_start + 1)\n",
        "\n",
        "    src.set(cv2.CAP_PROP_POS_FRAMES, start)\n",
        "    ret, frame = src.read()\n",
        "    result.append(format_frames(frame, output_size))\n",
        "\n",
        "    for _ in range(n_frames - 1):\n",
        "        for _ in range(frame_step):\n",
        "            ret, frame = src.read()\n",
        "        if ret:\n",
        "            frame = format_frames(frame, output_size)\n",
        "            result.append(frame)\n",
        "        else:\n",
        "            result.append(np.zeros_like(result[0]))\n",
        "    src.release()\n",
        "    result = np.array(result)[..., [2, 1, 0]]\n",
        "\n",
        "    return result"
      ],
      "metadata": {
        "id": "z8HR24CEUk76"
      },
      "execution_count": 21,
      "outputs": []
    },
    {
      "cell_type": "markdown",
      "source": [
        "### Video ma'lumotlarni vizualizatsiya qilish"
      ],
      "metadata": {
        "id": "BaHMmhveXY1H"
      }
    },
    {
      "cell_type": "code",
      "source": [
        "!curl -O https://upload.wikimedia.org/wikipedia/commons/8/86/End_of_a_jam.ogv"
      ],
      "metadata": {
        "colab": {
          "base_uri": "https://localhost:8080/"
        },
        "id": "2S21B_myXVLB",
        "outputId": "a2aa57e0-14ea-4b3f-ebf5-cfa7f678bd55"
      },
      "execution_count": 22,
      "outputs": [
        {
          "output_type": "stream",
          "name": "stdout",
          "text": [
            "  % Total    % Received % Xferd  Average Speed   Time    Time     Time  Current\n",
            "                                 Dload  Upload   Total   Spent    Left  Speed\n",
            "100 55.0M  100 55.0M    0     0  24.1M      0  0:00:02  0:00:02 --:--:-- 24.1M\n"
          ]
        }
      ]
    },
    {
      "cell_type": "code",
      "source": [],
      "metadata": {
        "id": "vtveXKS2Xtik"
      },
      "execution_count": null,
      "outputs": []
    }
  ]
}