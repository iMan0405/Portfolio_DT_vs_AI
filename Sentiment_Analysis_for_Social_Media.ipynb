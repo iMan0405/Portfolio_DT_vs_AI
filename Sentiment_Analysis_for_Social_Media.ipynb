{
  "nbformat": 4,
  "nbformat_minor": 0,
  "metadata": {
    "colab": {
      "provenance": [],
      "authorship_tag": "ABX9TyMOJeeBi6G91PdMSFbRzKZR",
      "include_colab_link": true
    },
    "kernelspec": {
      "name": "python3",
      "display_name": "Python 3"
    },
    "language_info": {
      "name": "python"
    }
  },
  "cells": [
    {
      "cell_type": "markdown",
      "metadata": {
        "id": "view-in-github",
        "colab_type": "text"
      },
      "source": [
        "<a href=\"https://colab.research.google.com/github/iMan0405/Portfolio_DT_vs_AI/blob/main/Sentiment_Analysis_for_Social_Media.ipynb\" target=\"_parent\"><img src=\"https://colab.research.google.com/assets/colab-badge.svg\" alt=\"Open In Colab\"/></a>"
      ]
    },
    {
      "cell_type": "markdown",
      "source": [
        "# Sentiment Analysis modeli (Ijtimoiy tarmoq uchun)"
      ],
      "metadata": {
        "id": "NSFOzznumVL6"
      }
    },
    {
      "cell_type": "markdown",
      "source": [
        "### ushbu modelda twitter dataseti dan foydalanamiz va izohlarda qoldirilgan hissiyotlarni tahlil qilamiz:"
      ],
      "metadata": {
        "id": "t4q-TreWmiPP"
      }
    },
    {
      "cell_type": "markdown",
      "source": [
        "Dataset haqida ma'lumot:\n",
        "**textID** - matnning har bir qismi uchun noyob identifikator;\n",
        "**text** - izoh matni;\n",
        "**sentiment** - izohga berilgan hissiyot."
      ],
      "metadata": {
        "id": "-9_rfjWpnE3V"
      }
    },
    {
      "cell_type": "code",
      "execution_count": null,
      "metadata": {
        "id": "n8mRU-VMl_-L"
      },
      "outputs": [],
      "source": []
    }
  ]
}