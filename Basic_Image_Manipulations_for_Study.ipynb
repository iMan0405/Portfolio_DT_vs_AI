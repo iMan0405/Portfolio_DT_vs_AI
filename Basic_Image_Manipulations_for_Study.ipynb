{
  "nbformat": 4,
  "nbformat_minor": 0,
  "metadata": {
    "colab": {
      "provenance": [],
      "gpuType": "T4",
      "authorship_tag": "ABX9TyPn9igvbu/mKsfK7wC9LYrq",
      "include_colab_link": true
    },
    "kernelspec": {
      "name": "python3",
      "display_name": "Python 3"
    },
    "language_info": {
      "name": "python"
    },
    "accelerator": "GPU"
  },
  "cells": [
    {
      "cell_type": "markdown",
      "metadata": {
        "id": "view-in-github",
        "colab_type": "text"
      },
      "source": [
        "<a href=\"https://colab.research.google.com/github/iMan0405/Portfolio_DT_vs_AI/blob/main/Basic_Image_Manipulations_for_Study.ipynb\" target=\"_parent\"><img src=\"https://colab.research.google.com/assets/colab-badge.svg\" alt=\"Open In Colab\"/></a>"
      ]
    },
    {
      "cell_type": "markdown",
      "source": [
        "# Asosiy tasvirni manipulatsiya qilish\n",
        "\n",
        "### Ushbu notebookda biz tasvirni qanday o'zgartirishni ko'rib chiqamiz, jumladan:\n",
        "\n",
        "Rasm piksellariga kirish va ularni boshqarish\n",
        "Tasvir hajmini o'zgartirish\n",
        "Kesish\n",
        "Aytish"
      ],
      "metadata": {
        "id": "gmVZSoRBbUEC"
      }
    },
    {
      "cell_type": "code",
      "execution_count": 1,
      "metadata": {
        "id": "UHVhzMlHa4Df"
      },
      "outputs": [],
      "source": [
        "import os\n",
        "import cv2\n",
        "import numpy as np\n",
        "import matplotlib.pyplot as plt\n",
        "\n",
        "from zipfile import ZipFile\n",
        "from urllib.request import urlretrieve\n",
        "\n",
        "from IPython.display import Image\n",
        "\n",
        "%matplotlib inline"
      ]
    },
    {
      "cell_type": "markdown",
      "source": [
        "# Aktivlarni yuklash\n",
        "\n",
        "### Download_and_unzip(...) Notebook aktivlarini yuklab olish va chiqarib olish uchun ishlatiladi."
      ],
      "metadata": {
        "id": "kspAQRSPc69Q"
      }
    },
    {
      "cell_type": "code",
      "source": [
        "def download_and_unzip(url, save_path):\n",
        "    print(f\"Downloading and extracting assests....\", end=\"\")\n",
        "\n",
        "    # Urllib paketi yordamida zip faylni yuklab olish.\n",
        "    urlretrieve(url, save_path)\n",
        "\n",
        "    try:\n",
        "        # Zipfile paketi yordamida zip faylni chiqarib olish.\n",
        "        with ZipFile(save_path) as z:\n",
        "            # ZIP fayl mazmunini bir xil katalogdan chiqarib oling.\n",
        "            z.extractall(os.path.split(save_path)[0])\n",
        "\n",
        "        print(\"Done\")\n",
        "\n",
        "    except Exception as e:\n",
        "        print(\"\\nInvalid file.\", e)"
      ],
      "metadata": {
        "id": "O8jr8oiPcRw_"
      },
      "execution_count": 2,
      "outputs": []
    },
    {
      "cell_type": "code",
      "source": [
        "URL = r\"https://www.dropbox.com/s/rys6f1vprily2bg/opencv_bootcamp_assets_NB2.zip?dl=1\"\n",
        "\n",
        "asset_zip_path = os.path.join(os.getcwd(), \"opencv_bootcamp_assets_NB2.zip\")\n",
        "\n",
        "# Assest ZIP mavjud bo'lmasa, yuklab olish.\n",
        "if not os.path.exists(asset_zip_path):\n",
        "    download_and_unzip(URL, asset_zip_path)"
      ],
      "metadata": {
        "colab": {
          "base_uri": "https://localhost:8080/"
        },
        "id": "JZOKyEX3gw9_",
        "outputId": "41bfb886-0f27-473d-e550-d6b15f981c3e"
      },
      "execution_count": 3,
      "outputs": [
        {
          "output_type": "stream",
          "name": "stdout",
          "text": [
            "Downloading and extracting assests....Done\n"
          ]
        }
      ]
    },
    {
      "cell_type": "markdown",
      "source": [
        "# Asl shaxmat taxtasi tasviri"
      ],
      "metadata": {
        "id": "vLkiS9yphZ7-"
      }
    },
    {
      "cell_type": "code",
      "source": [
        "# Rasmni kulrang shkala sifatida o'qish\n",
        "cb_img = cv2.imread(\"checkerboard_18x18.png\", 0)\n",
        "\n",
        "# To'g'ri ko'rsatish uchun rangli xaritani kulrang shkalaga o'rnating\n",
        "plt.imshow(cb_img, cmap=\"gray\")\n",
        "print(cb_img)"
      ],
      "metadata": {
        "colab": {
          "base_uri": "https://localhost:8080/",
          "height": 742
        },
        "id": "RYhjRdpWhU09",
        "outputId": "47dad0f0-374c-49bb-d4f6-0a1c0872d904"
      },
      "execution_count": 4,
      "outputs": [
        {
          "output_type": "stream",
          "name": "stdout",
          "text": [
            "[[  0   0   0   0   0   0 255 255 255 255 255 255   0   0   0   0   0   0]\n",
            " [  0   0   0   0   0   0 255 255 255 255 255 255   0   0   0   0   0   0]\n",
            " [  0   0   0   0   0   0 255 255 255 255 255 255   0   0   0   0   0   0]\n",
            " [  0   0   0   0   0   0 255 255 255 255 255 255   0   0   0   0   0   0]\n",
            " [  0   0   0   0   0   0 255 255 255 255 255 255   0   0   0   0   0   0]\n",
            " [  0   0   0   0   0   0 255 255 255 255 255 255   0   0   0   0   0   0]\n",
            " [255 255 255 255 255 255   0   0   0   0   0   0 255 255 255 255 255 255]\n",
            " [255 255 255 255 255 255   0   0   0   0   0   0 255 255 255 255 255 255]\n",
            " [255 255 255 255 255 255   0   0   0   0   0   0 255 255 255 255 255 255]\n",
            " [255 255 255 255 255 255   0   0   0   0   0   0 255 255 255 255 255 255]\n",
            " [255 255 255 255 255 255   0   0   0   0   0   0 255 255 255 255 255 255]\n",
            " [255 255 255 255 255 255   0   0   0   0   0   0 255 255 255 255 255 255]\n",
            " [  0   0   0   0   0   0 255 255 255 255 255 255   0   0   0   0   0   0]\n",
            " [  0   0   0   0   0   0 255 255 255 255 255 255   0   0   0   0   0   0]\n",
            " [  0   0   0   0   0   0 255 255 255 255 255 255   0   0   0   0   0   0]\n",
            " [  0   0   0   0   0   0 255 255 255 255 255 255   0   0   0   0   0   0]\n",
            " [  0   0   0   0   0   0 255 255 255 255 255 255   0   0   0   0   0   0]\n",
            " [  0   0   0   0   0   0 255 255 255 255 255 255   0   0   0   0   0   0]]\n"
          ]
        },
        {
          "output_type": "display_data",
          "data": {
            "text/plain": [
              "<Figure size 640x480 with 1 Axes>"
            ],
            "image/png": "[encoded data removed]"
          },
          "metadata": {}
        }
      ]
    },
    {
      "cell_type": "markdown",
      "source": [
        "# Individual piksellarga kirish\n",
        "\n",
        "### Keling, rasmdagi pikselga qanday kirishni ko'rib chiqaylik.\n",
        "### Numpy matritsadagi istalgan pikselga kirish uchun siz matritsa [r,c] kabi matritsa belgilaridan foydalanishingiz kerak, bunda r satr raqami va c ustun raqamidir. Bundan tashqari, matritsa 0 indeksli ekanligini unutmang.\n",
        "### Misol uchun, agar siz birinchi pikselga kirishni istasangiz, matritsani [0,0] belgilashingiz kerak. Keling, ba'zi misollar bilan ko'rib chiqaylik. Yuqoridan chapdan bitta qora piksel va yuqori markazdan bitta oq piksel chop etamiz."
      ],
      "metadata": {
        "id": "JtVHN6wniBan"
      }
    },
    {
      "cell_type": "code",
      "source": [
        "# birinchi qora qutining birinchi pikselini chop etish\n",
        "print(cb_img[0, 0])\n",
        "# birinchi qora qutining o'ng tomonidagi birinchi oq pikselni chop etish\n",
        "print(cb_img[0, 6])"
      ],
      "metadata": {
        "colab": {
          "base_uri": "https://localhost:8080/"
        },
        "id": "jYPxvAWdh6rV",
        "outputId": "753363af-6cd0-4341-a4f6-210d8230a251"
      },
      "execution_count": 5,
      "outputs": [
        {
          "output_type": "stream",
          "name": "stdout",
          "text": [
            "0\n",
            "255\n"
          ]
        }
      ]
    },
    {
      "cell_type": "code",
      "source": [],
      "metadata": {
        "id": "yTtYt1Cyi0QX"
      },
      "execution_count": null,
      "outputs": []
    }
  ]
}