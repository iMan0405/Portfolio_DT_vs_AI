{
  "nbformat": 4,
  "nbformat_minor": 0,
  "metadata": {
    "colab": {
      "provenance": [],
      "gpuType": "T4",
      "authorship_tag": "ABX9TyOz43UQ6yPVASSEfD3G5sdd",
      "include_colab_link": true
    },
    "kernelspec": {
      "name": "python3",
      "display_name": "Python 3"
    },
    "language_info": {
      "name": "python"
    },
    "accelerator": "GPU"
  },
  "cells": [
    {
      "cell_type": "markdown",
      "metadata": {
        "id": "view-in-github",
        "colab_type": "text"
      },
      "source": [
        "<a href=\"https://colab.research.google.com/github/iMan0405/Portfolio_DT_vs_AI/blob/main/Model_identifying_the_type_of_car.ipynb\" target=\"_parent\"><img src=\"https://colab.research.google.com/assets/colab-badge.svg\" alt=\"Open In Colab\"/></a>"
      ]
    },
    {
      "cell_type": "markdown",
      "source": [
        "### GPU ni sozlanganligini tekshirish (rasm bilan ishlovchi modellarni training jarayonini tezlashtirish uchun GPU dan foydalanish lozim)"
      ],
      "metadata": {
        "id": "NzXeDQz988tR"
      }
    },
    {
      "cell_type": "code",
      "execution_count": 1,
      "metadata": {
        "colab": {
          "base_uri": "https://localhost:8080/"
        },
        "id": "292ntljX8EG_",
        "outputId": "3162b1b9-f304-4b02-d58a-ecbea8950231"
      },
      "outputs": [
        {
          "output_type": "execute_result",
          "data": {
            "text/plain": [
              "True"
            ]
          },
          "metadata": {},
          "execution_count": 1
        }
      ],
      "source": [
        "import torch\n",
        "torch.cuda.is_available()"
      ]
    },
    {
      "cell_type": "markdown",
      "source": [
        "### Kutubxonalarni yuklab olish"
      ],
      "metadata": {
        "id": "LDjhVPK08yPp"
      }
    },
    {
      "cell_type": "code",
      "source": [],
      "metadata": {
        "id": "HMEN9QxE8vyh"
      },
      "execution_count": null,
      "outputs": []
    }
  ]
}