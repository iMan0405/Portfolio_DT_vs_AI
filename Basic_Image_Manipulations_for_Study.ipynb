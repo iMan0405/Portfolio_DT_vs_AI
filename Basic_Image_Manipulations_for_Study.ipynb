{
  "nbformat": 4,
  "nbformat_minor": 0,
  "metadata": {
    "colab": {
      "provenance": [],
      "gpuType": "T4",
      "authorship_tag": "ABX9TyNys3WAlx4JDTKwuJ6GLkiR",
      "include_colab_link": true
    },
    "kernelspec": {
      "name": "python3",
      "display_name": "Python 3"
    },
    "language_info": {
      "name": "python"
    },
    "accelerator": "GPU"
  },
  "cells": [
    {
      "cell_type": "markdown",
      "metadata": {
        "id": "view-in-github",
        "colab_type": "text"
      },
      "source": [
        "<a href=\"https://colab.research.google.com/github/iMan0405/Portfolio_DT_vs_AI/blob/main/Basic_Image_Manipulations_for_Study.ipynb\" target=\"_parent\"><img src=\"https://colab.research.google.com/assets/colab-badge.svg\" alt=\"Open In Colab\"/></a>"
      ]
    },
    {
      "cell_type": "markdown",
      "source": [
        "# Asosiy tasvirni manipulatsiya qilish\n",
        "\n",
        "### Ushbu notebookda biz tasvirni qanday o'zgartirishni ko'rib chiqamiz, jumladan:\n",
        "\n",
        "Rasm piksellariga kirish va ularni boshqarish\n",
        "Tasvir hajmini o'zgartirish\n",
        "Kesish\n",
        "Aytish"
      ],
      "metadata": {
        "id": "gmVZSoRBbUEC"
      }
    },
    {
      "cell_type": "code",
      "execution_count": 1,
      "metadata": {
        "id": "UHVhzMlHa4Df"
      },
      "outputs": [],
      "source": [
        "import os\n",
        "import cv2\n",
        "import numpy as np\n",
        "import matplotlib.pyplot as plt\n",
        "\n",
        "from zipfile import ZipFile\n",
        "from urllib.request import urlretrieve\n",
        "\n",
        "from IPython.display import Image\n",
        "\n",
        "%matplotlib inline"
      ]
    },
    {
      "cell_type": "code",
      "source": [],
      "metadata": {
        "id": "O8jr8oiPcRw_"
      },
      "execution_count": null,
      "outputs": []
    }
  ]
}