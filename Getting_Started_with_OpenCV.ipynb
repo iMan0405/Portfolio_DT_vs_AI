{
  "nbformat": 4,
  "nbformat_minor": 0,
  "metadata": {
    "colab": {
      "provenance": [],
      "gpuType": "T4",
      "authorship_tag": "ABX9TyMYullkk3Z8r3Woo+7CRMwd",
      "include_colab_link": true
    },
    "kernelspec": {
      "name": "python3",
      "display_name": "Python 3"
    },
    "language_info": {
      "name": "python"
    },
    "accelerator": "GPU"
  },
  "cells": [
    {
      "cell_type": "markdown",
      "metadata": {
        "id": "view-in-github",
        "colab_type": "text"
      },
      "source": [
        "<a href=\"https://colab.research.google.com/github/iMan0405/Portfolio_DT_vs_AI/blob/main/Getting_Started_with_OpenCV.ipynb\" target=\"_parent\"><img src=\"https://colab.research.google.com/assets/colab-badge.svg\" alt=\"Open In Colab\"/></a>"
      ]
    },
    {
      "cell_type": "markdown",
      "source": [
        "# Kompyuter vision yo'nalishi bo'yicha o'rganish va tajriba orttirish uchun tayyorlangan loyiha"
      ],
      "metadata": {
        "id": "8LjEkXQljcKl"
      }
    },
    {
      "cell_type": "markdown",
      "source": [
        "### Kutubxonalarni yuklab olamiz"
      ],
      "metadata": {
        "id": "XzMmYbQBjt8M"
      }
    },
    {
      "cell_type": "code",
      "execution_count": 3,
      "metadata": {
        "id": "hqwIarLzjH5_"
      },
      "outputs": [],
      "source": [
        "import os\n",
        "import cv2\n",
        "import numpy as np\n",
        "import matplotlib.pyplot as plt\n",
        "\n",
        "from zipfile import ZipFile\n",
        "from urllib.request import urlretrieve\n",
        "from IPython.display import Image\n",
        "\n",
        "%matplotlib inline"
      ]
    },
    {
      "cell_type": "markdown",
      "source": [
        "### Loyihada kerakli bo'ladigan fayllarni yuklab, .zip dan chiqaruvchi funksiya yozamiz"
      ],
      "metadata": {
        "id": "O0Ofc1zRm5hP"
      }
    },
    {
      "cell_type": "code",
      "source": [
        "def download_and_unzip(url, save_path):\n",
        "    print(f\"Downloading and extracting assests....\", end=\"\")\n",
        "\n",
        "    # Downloading zip file using urllib package.\n",
        "    urlretrieve(url, save_path)\n",
        "\n",
        "    try:\n",
        "        # Extracting zip file using the zipfile package.\n",
        "        with ZipFile(save_path) as z:\n",
        "            # Extract ZIP file contents in the same directory.\n",
        "            z.extractall(os.path.split(save_path)[0])\n",
        "\n",
        "        print(\"Done\")\n",
        "\n",
        "    except Exception as e:\n",
        "        print(\"\\nInvalid file.\", e)"
      ],
      "metadata": {
        "id": "GYiLnXgqmAfg"
      },
      "execution_count": 5,
      "outputs": []
    },
    {
      "cell_type": "code",
      "source": [
        "URL = r\"https://www.dropbox.com/s/qhhlqcica1nvtaw/opencv_bootcamp_assets_NB1.zip?dl=1\"\n",
        "\n",
        "asset_zip_path = os.path.join(os.getcwd(), \"opencv_bootcamp_assets_NB1.zip\")\n",
        "\n",
        "# Download if assest ZIP does not exists.\n",
        "if not os.path.exists(asset_zip_path):\n",
        "    download_and_unzip(URL, asset_zip_path)"
      ],
      "metadata": {
        "colab": {
          "base_uri": "https://localhost:8080/"
        },
        "id": "zONz2ZLYms-2",
        "outputId": "64677c39-8231-40b6-cd20-45ae26e4da33"
      },
      "execution_count": 6,
      "outputs": [
        {
          "output_type": "stream",
          "name": "stdout",
          "text": [
            "Downloading and extracting assests....Done\n"
          ]
        }
      ]
    },
    {
      "cell_type": "markdown",
      "source": [
        "# Rasm yuklab olamiz"
      ],
      "metadata": {
        "id": "qrVM0n2clFV6"
      }
    },
    {
      "cell_type": "code",
      "source": [
        "Image(filename=\"checkerboard_18x18.png\")"
      ],
      "metadata": {
        "colab": {
          "base_uri": "https://localhost:8080/",
          "height": 35
        },
        "id": "LHB6zuXukFU0",
        "outputId": "4ffe4722-5d9a-4a20-c3b2-4db6f1d19cf1"
      },
      "execution_count": 7,
      "outputs": [
        {
          "output_type": "execute_result",
          "data": {
            "image/png": "[encoded data removed]",
            "text/plain": [
              "<IPython.core.display.Image object>"
            ]
          },
          "metadata": {},
          "execution_count": 7
        }
      ]
    },
    {
      "cell_type": "markdown",
      "source": [
        "# Hajmini kattalashtiramiz"
      ],
      "metadata": {
        "id": "Q8BaFZSPlUJQ"
      }
    },
    {
      "cell_type": "code",
      "source": [
        "Image(filename=\"checkerboard_84x84.jpg\")"
      ],
      "metadata": {
        "colab": {
          "base_uri": "https://localhost:8080/",
          "height": 101
        },
        "id": "JrQqPlUalSH5",
        "outputId": "751a5a22-8465-40ac-8319-af36661bf977"
      },
      "execution_count": 8,
      "outputs": [
        {
          "output_type": "execute_result",
          "data": {
            "image/jpeg": "[encoded data removed]",
            "text/plain": [
              "<IPython.core.display.Image object>"
            ]
          },
          "metadata": {},
          "execution_count": 8
        }
      ]
    },
    {
      "cell_type": "markdown",
      "source": [
        "### OpenCV kutubxonasi yordamida rasmlarni o'qish"
      ],
      "metadata": {
        "id": "j1pR6zNXr2YP"
      }
    },
    {
      "cell_type": "code",
      "source": [
        "cb_img = cv2.imread(\"checkerboard_18x18.png\", 0)\n",
        "print(cb_img)"
      ],
      "metadata": {
        "colab": {
          "base_uri": "https://localhost:8080/"
        },
        "id": "49eGrHjfr9At",
        "outputId": "a18e0816-8b2b-4972-dfe7-e441701ee942"
      },
      "execution_count": 10,
      "outputs": [
        {
          "output_type": "stream",
          "name": "stdout",
          "text": [
            "[[  0   0   0   0   0   0 255 255 255 255 255 255   0   0   0   0   0   0]\n",
            " [  0   0   0   0   0   0 255 255 255 255 255 255   0   0   0   0   0   0]\n",
            " [  0   0   0   0   0   0 255 255 255 255 255 255   0   0   0   0   0   0]\n",
            " [  0   0   0   0   0   0 255 255 255 255 255 255   0   0   0   0   0   0]\n",
            " [  0   0   0   0   0   0 255 255 255 255 255 255   0   0   0   0   0   0]\n",
            " [  0   0   0   0   0   0 255 255 255 255 255 255   0   0   0   0   0   0]\n",
            " [255 255 255 255 255 255   0   0   0   0   0   0 255 255 255 255 255 255]\n",
            " [255 255 255 255 255 255   0   0   0   0   0   0 255 255 255 255 255 255]\n",
            " [255 255 255 255 255 255   0   0   0   0   0   0 255 255 255 255 255 255]\n",
            " [255 255 255 255 255 255   0   0   0   0   0   0 255 255 255 255 255 255]\n",
            " [255 255 255 255 255 255   0   0   0   0   0   0 255 255 255 255 255 255]\n",
            " [255 255 255 255 255 255   0   0   0   0   0   0 255 255 255 255 255 255]\n",
            " [  0   0   0   0   0   0 255 255 255 255 255 255   0   0   0   0   0   0]\n",
            " [  0   0   0   0   0   0 255 255 255 255 255 255   0   0   0   0   0   0]\n",
            " [  0   0   0   0   0   0 255 255 255 255 255 255   0   0   0   0   0   0]\n",
            " [  0   0   0   0   0   0 255 255 255 255 255 255   0   0   0   0   0   0]\n",
            " [  0   0   0   0   0   0 255 255 255 255 255 255   0   0   0   0   0   0]\n",
            " [  0   0   0   0   0   0 255 255 255 255 255 255   0   0   0   0   0   0]]\n"
          ]
        }
      ]
    },
    {
      "cell_type": "markdown",
      "source": [
        "### Rasm attributlarini ko'rsatish"
      ],
      "metadata": {
        "id": "Vt1NhlCMt_du"
      }
    },
    {
      "cell_type": "code",
      "source": [
        "print(\"Rasm hajmi (Eni, Bo'yi):\", cb_img.shape)\n",
        "print(\"Rasmni ma'lumot turi: \", cb_img.dtype)"
      ],
      "metadata": {
        "colab": {
          "base_uri": "https://localhost:8080/"
        },
        "id": "C-tDrR8Gt6vd",
        "outputId": "5b2d339e-e8a2-4ef2-da5b-a1e41b4f28e8"
      },
      "execution_count": 11,
      "outputs": [
        {
          "output_type": "stream",
          "name": "stdout",
          "text": [
            "Rasm hajmi (Eni, Bo'yi): (18, 18)\n",
            "Rasmni ma'lumot turi:  uint8\n"
          ]
        }
      ]
    },
    {
      "cell_type": "markdown",
      "source": [
        "### Matplotlib yordamida Rasmni chizish"
      ],
      "metadata": {
        "id": "mH4QggB9unH-"
      }
    },
    {
      "cell_type": "code",
      "source": [
        "plt.imshow(cb_img)"
      ],
      "metadata": {
        "colab": {
          "base_uri": "https://localhost:8080/",
          "height": 447
        },
        "id": "u0N3Ifr6ukT4",
        "outputId": "18183fc3-916e-4e5c-939b-063fab6bb9fb"
      },
      "execution_count": 12,
      "outputs": [
        {
          "output_type": "execute_result",
          "data": {
            "text/plain": [
              "<matplotlib.image.AxesImage at 0x7c64c7521ae0>"
            ]
          },
          "metadata": {},
          "execution_count": 12
        },
        {
          "output_type": "display_data",
          "data": {
            "text/plain": [
              "<Figure size 640x480 with 1 Axes>"
            ],
            "image/png": "[encoded data removed]"
          },
          "metadata": {}
        }
      ]
    },
    {
      "cell_type": "code",
      "source": [],
      "metadata": {
        "id": "rCaxKh0Quv-A"
      },
      "execution_count": null,
      "outputs": []
    }
  ]
}